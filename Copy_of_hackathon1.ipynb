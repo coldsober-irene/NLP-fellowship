{
  "nbformat": 4,
  "nbformat_minor": 0,
  "metadata": {
    "colab": {
      "provenance": [],
      "authorship_tag": "ABX9TyPKKPeMAMTHBItme4WoIu/l",
      "include_colab_link": true
    },
    "kernelspec": {
      "name": "python3",
      "display_name": "Python 3"
    },
    "language_info": {
      "name": "python"
    }
  },
  "cells": [
    {
      "cell_type": "markdown",
      "metadata": {
        "id": "view-in-github",
        "colab_type": "text"
      },
      "source": [
        "<a href=\"https://colab.research.google.com/github/coldsober-irene/NLP-fellowship/blob/main/Copy_of_hackathon1.ipynb\" target=\"_parent\"><img src=\"https://colab.research.google.com/assets/colab-badge.svg\" alt=\"Open In Colab\"/></a>"
      ]
    },
    {
      "cell_type": "code",
      "execution_count": 1,
      "metadata": {
        "id": "VVznFQk0ndVF"
      },
      "outputs": [],
      "source": [
        "# REQUIRED IMPORTS\n",
        "from bs4 import BeautifulSoup as bs\n",
        "import requests\n",
        "import pandas as pd\n",
        "import re\n",
        "import json\n",
        "import numpy as np"
      ]
    },
    {
      "cell_type": "code",
      "source": [
        "# DATA MINING\n",
        "class dataMining:\n",
        "  def __init__(self, jobSource = \"Job In Rwanda\"):\n",
        "    self.source = jobSource\n",
        "    self.jobIdentification = {} # {\"software_developer\":[published_date, company, requirements, deadline, full_description],....}\n",
        "  \n",
        "  # SOUP\n",
        "  def Soup(self, url):\n",
        "    page = requests.get(url).content\n",
        "    soup = bs(page, \"html.parser\")\n",
        "    return soup\n",
        "\n",
        "  def get_links(self):\n",
        "    # GET SOUP OBJECT\n",
        "    soup = self.Soup(url = \"https://www.jobinrwanda.com/jobs/all\")\n",
        "    # GET ALL JOBS LINKS\n",
        "    company_infoLink = []\n",
        "    all_jobsLinks = [\"https://www.jobinrwanda.com\"+link['href'] if \"job\" in link['href'] else company_infoLink.append(\"https://www.jobinrwanda.com\"+link['href']) for div in soup.find_all(\"div\", class_= \"card-body p-2\") for link in div.find_all(\"a\")]\n",
        "    all_jobsLinks = [link for link in all_jobsLinks if link]\n",
        "    return (all_jobsLinks, company_infoLink)\n",
        "\n",
        "  def get_jobInfo(self):\n",
        "    jobLinks = self.get_links()[0]\n",
        "    info = {}\n",
        "    # REFINE THE INFO INTO A DICTIONARY\n",
        "    def refine_info(ls):\n",
        "      refined_info = {}\n",
        "      infoZeroPattern = re.compile(\"\\d+.*\")\n",
        "      views = infoZeroPattern.search(ls[0]).group()\n",
        "      refined_info[\"views\"] = views\n",
        "      # OTHER DETAILS EXCEPT THE ONE ON POSITION 0\n",
        "      otherInfoPattern = re.compile(\":\")\n",
        "      for detail in ls[1:]:\n",
        "        if detail.lower() == \"apply\":\n",
        "          pass\n",
        "        else:\n",
        "          try:\n",
        "            detailed = otherInfoPattern.split(detail)\n",
        "            refined_info[detailed[0]] = detailed[1]\n",
        "          except IndexError:\n",
        "            pass\n",
        "      return refined_info\n",
        "       \n",
        "    for index,url in enumerate(jobLinks):\n",
        "      soup = self.Soup(url)\n",
        "      pattern = re.compile(\"\\s{2,}\")\n",
        "      job_info = [pattern.sub(\" \",li.text.strip().replace(\"\\n\", \"\")) for ul in soup.find_all('ul', class_ = \"list-group list-group-flush\") for li in ul.find_all('li')]\n",
        "      # DICTIONANRY OF INFO\n",
        "      info[index] = refine_info(job_info[:9])\n",
        "    return info\n",
        "\n",
        "  def get_description(self):\n",
        "    jobLinks = self.get_links()[0]\n",
        "    all_text= {}\n",
        "    for index,link in enumerate(jobLinks):\n",
        "      soup = self.Soup(link)\n",
        "      tags_content = soup.find_all('div', class_= \"clearfix text-formatted field field--name-field-job-full-description field--type-text-long field--label-hidden field__item\")\n",
        "      \n",
        "      for div in tags_content:\n",
        "        temp = []\n",
        "        try:\n",
        "          # GET APPLICATION LINK\n",
        "          app_link = soup.find(\"a\", class_ = \"btn btn-sm btn-success\")['href']\n",
        "          if app_link.startswith(\"/\"):\n",
        "            app_link = \"https://www.jobinrwanda.com\"+app_link\n",
        "          temp.append(app_link)\n",
        "          # print(app_link)\n",
        "        except TypeError:\n",
        "          temp.append(np.nan)\n",
        "        for tag in div.children:\n",
        "          try:\n",
        "            temp.append(tag.get_text())\n",
        "          except (AttributeError, TypeError):\n",
        "            pass\n",
        "        all_text[index] = temp\n",
        "\n",
        "    return all_text\n"
      ],
      "metadata": {
        "id": "FHrZBDzxnr2Q"
      },
      "execution_count": 31,
      "outputs": []
    },
    {
      "cell_type": "code",
      "source": [
        "jobInRwanda = dataMining()\n",
        "job_text = jobInRwanda.get_description()\n",
        "info = jobInRwanda.get_jobInfo()"
      ],
      "metadata": {
        "id": "ruesx8oF2J6K"
      },
      "execution_count": 39,
      "outputs": []
    },
    {
      "cell_type": "code",
      "source": [
        "# MERGE JOB DESCRIPTION WITH THE JOB INFO\n",
        "final_demo = []\n",
        "for index in list(info.keys()):\n",
        "  info_value = list(info[index].values())\n",
        "  info_value.append(job_text[index][0])\n",
        "  t = '\\n'.join(job_text[index][1:])\n",
        "  g = re.compile(\"\\n\").sub(\"\", t)\n",
        "  info_value.append(g)\n",
        "  final_demo.append(info_value)"
      ],
      "metadata": {
        "id": "6M1vZYI28KaD"
      },
      "execution_count": 41,
      "outputs": []
    },
    {
      "cell_type": "code",
      "source": [
        "final_demo[0]"
      ],
      "metadata": {
        "id": "lcrB0k65le1W",
        "outputId": "b13c3271-9928-47c3-e851-bbf2fd51afd1",
        "colab": {
          "base_uri": "https://localhost:8080/"
        }
      },
      "execution_count": 42,
      "outputs": [
        {
          "output_type": "execute_result",
          "data": {
            "text/plain": [
              "['1401 times',\n",
              " ' , RW',\n",
              " ' Administration, Business, Logistics, Other, Procurement',\n",
              " ' Master',\n",
              " ' Senior (5+ years of experience)',\n",
              " ' Full-time',\n",
              " ' Thursday, 10/11/2022 17',\n",
              " ' 1',\n",
              " 'https://www.jobinrwanda.com/form/default-job-application-form?job_application_job=11324',\n",
              " 'Advertisement for Recruitment of the Procurement Manager\\xa0About AFR:Access to Finance Rwanda (AFR) is a Rwandan not for profit company established in 2010 by the Governments of Rwanda and United Kingdom with funding from the UK’s Foreign, Commonwealth Development Office (FCDO) and the World Bank. AFR is currently funded by Sweden, Jersey Overseas Aid (JOA) and the MasterCard Foundation.Access to Finance Rwanda is part of the broader Financial Sector Deepening (FSD) in Africa that seek to create a transformative impact on the ending of poverty by supporting efforts to improve financial inclusion and financial sector development by helping financial service providers catalyse a more inclusive and sustainable economic growth.AFR supports the removal of systemic barriers that hinder access to financial services by low-income people, particularly the rural poor, women, youth and MSMEs. AFR supports the development and provision of financial services including savings, credit, insurance, payments, investment, and remittances. \\xa0The RoleThe Procurement Manager is responsible for ensuring the procurement of the goods and services that are required for achievement of AFR’s strategic and operational goals; aiming to ensure value for money (VfM) with an efficient and compliant process.\\xa0 The Procurement Manager leads the team in developing and implementing policies, procedures, systems and standards for procurement that will ensure compliance with the laws of Rwanda, investor requirements and good practice in procurement.\\xa0 The job holder will demonstrate significant interpersonal skills to manage the various interactions with user departments and suppliers; that will ensure the protection of AFR’s interests.The location of the job is Kigali RwandaReporting line: The position reports to the Chief Operations Officer (COO)\\xa0 \\xa0 \\xa0 \\xa0 \\xa0 \\xa0\\xa0Scope of ResponsibilitiesThe Procurement Manager will be responsible for the following key tasks: \\xa0\\xa0Lead the AFR team in developing and implementing policies, procedures and systems that reflect best practice in procurement managementSupport Senior Management & Project Management Teams in comprehensive resource & procurement planning for AFRManage the identification, evaluation and contracting of suppliers for good, services and works in accordance with AFR’s procurement policies and proceduresSupport project leads in effectively managing procurement-related activities, achieving value for money and compliance with AFR and Development Partner policiesLead on the identification of AFR\\'s procurement-related risks and the development & implementation of risk-management controls and practicesLead any staff or consultants who contribute to the Procurement process; empowering them to add value to AFR and deliver high standards of performanceAnd other duties as requested by the COOEducation and QualificationsBachelor’s degree in supply chain management, logistics, business administration or any other related fieldORProfessional certification in procurement e.g., CIPSPRINCE 2 or PMP Qualification preferredJob related experience and knowledgeA minimum of 5 years post graduate experience as a procurement manager, or head of procurement function.Demonstrated experience in managing high volume procurements in an international donor funded organizationExperience in contract negotiations; strong interpersonal/negotiation skillsStrong technical understanding of good practice in procurement; ability to implement policies and procedures and to develop effective purchasing processesExcellent written, verbal communication; high quality document and report preparation abilitiesProven ability to work collaboratively, as a team leader and team member; and to build and maintain a positive work environment across the organizationKnowledge and working experience with a procurement softwareDemonstrate good judgement, independence, and high ethical valuesFluency in English and Kinyarwanda requiredRequired CompetenciesHaving a strong sense of engagement that leads to self-starting, taking initiative and acting decisivelyGenerates value-adding innovation through continuous improvement, idea generation and creativityThinks clearly and intentionally, analysing information objectively, understanding issues, solving problems, and forming expert opinionIs strongly motivated to achieve goals and act with accountability to deliver quality resultsInitiates and maintains positive relationships with others; discerning and appreciating the values, concerns, or feelings of othersDeliberately adjusts behavior to address the feelings, needs or concerns of others; communicates clearly, confidently, and appropriately to influence othersPossesses the personal resourcefulness to deal with difficult situations, adapt to change, and facilitate the development of self and othersHow to ApplyAll qualified applicants should submit their applications through job in rwanda\\xa0by clicking on the \"apply\" button below not later than the 10th\\xa0November 2022 at 5.00pm Central African Time (CAT)\\xa0clearly indicating in the\\xa0Subject line: Application for\\xa0Procurement Manager Position.\\xa0\\xa0The application should contain a\\xa0Resume\\xa0with\\xa0e-mail address, daytime telephone contact, qualifications, achievements, experience, and names & addresses of three professional referees together with a cover letter\\xa0(maximum 2 pages) summarising the reasons you consider yourself particularly well suited for the position.\\xa0Do not attach any other documents at this point.All applications will be\\xa0selected on merit\\xa0and\\xa0only shortlisted candidates\\xa0will be invited for interviews. For any questions regarding the application process please contact Job In Rwanda\\xa0during working hours only.Qualified Rwandans and Women candidates are encouraged to apply.Note: This position is open to only local candidates with relevant experience and qualifications.']"
            ]
          },
          "metadata": {},
          "execution_count": 42
        }
      ]
    },
    {
      "cell_type": "code",
      "source": [
        "# DATA SORTING"
      ],
      "metadata": {
        "id": "J_FyJUHenxcz"
      },
      "execution_count": null,
      "outputs": []
    },
    {
      "cell_type": "code",
      "source": [
        "# DATA PRESENTATION"
      ],
      "metadata": {
        "id": "OiOwDk__n0NH"
      },
      "execution_count": null,
      "outputs": []
    }
  ]
}
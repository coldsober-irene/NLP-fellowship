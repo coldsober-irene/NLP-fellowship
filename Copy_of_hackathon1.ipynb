{
  "nbformat": 4,
  "nbformat_minor": 0,
  "metadata": {
    "colab": {
      "provenance": [],
      "authorship_tag": "ABX9TyNFqQBG+nvy+wKaaAjBrHqP",
      "include_colab_link": true
    },
    "kernelspec": {
      "name": "python3",
      "display_name": "Python 3"
    },
    "language_info": {
      "name": "python"
    }
  },
  "cells": [
    {
      "cell_type": "markdown",
      "metadata": {
        "id": "view-in-github",
        "colab_type": "text"
      },
      "source": [
        "<a href=\"https://colab.research.google.com/github/coldsober-irene/NLP-fellowship/blob/main/Copy_of_hackathon1.ipynb\" target=\"_parent\"><img src=\"https://colab.research.google.com/assets/colab-badge.svg\" alt=\"Open In Colab\"/></a>"
      ]
    },
    {
      "cell_type": "code",
      "execution_count": 1,
      "metadata": {
        "id": "VVznFQk0ndVF"
      },
      "outputs": [],
      "source": [
        "# REQUIRED IMPORTS\n",
        "from bs4 import BeautifulSoup as bs\n",
        "import requests\n",
        "import pandas as pd\n",
        "import re\n",
        "import json\n",
        "import numpy as np"
      ]
    },
    {
      "cell_type": "code",
      "source": [
        "# DATA MINING\n",
        "class dataMining:\n",
        "  def __init__(self, jobSource = \"Job In Rwanda\"):\n",
        "    self.source = jobSource\n",
        "    self.jobIdentification = {} # {\"software_developer\":[published_date, company, requirements, deadline, full_description],....}\n",
        "  \n",
        "  # SOUP\n",
        "  def Soup(self, url):\n",
        "    page = requests.get(url).content\n",
        "    soup = bs(page, \"html.parser\")\n",
        "    return soup\n",
        "\n",
        "  def get_links(self):\n",
        "    # GET SOUP OBJECT\n",
        "    soup = self.Soup(url = \"https://www.jobinrwanda.com/jobs/all\")\n",
        "    # GET ALL JOBS LINKS\n",
        "    company_infoLink = []\n",
        "    \n",
        "    all_jobsLinks = [\"https://www.jobinrwanda.com\"+link['href'] if \"job\" in link['href'] \n",
        "                     else company_infoLink.append(link.text) \n",
        "                     for div in soup.find_all(\"div\", class_= \"card-body p-2\") \n",
        "                     for link in div.find_all(\"a\")\n",
        "                     ]\n",
        "    all_jobsLinks = [link for link in all_jobsLinks if link]\n",
        "    return (all_jobsLinks, company_infoLink)\n",
        "\n",
        "  def get_jobInfo(self):\n",
        "    jobLinks = self.get_links()[0]\n",
        "    info = {}\n",
        "    # REFINE THE INFO INTO A DICTIONARY\n",
        "    def refine_info(ls):\n",
        "      print(ls)\n",
        "      refined_info = {}\n",
        "      infoZeroPattern = re.compile(\"\\d+.*\")\n",
        "      views = infoZeroPattern.search(ls[0]).group()\n",
        "      refined_info[\"views\"] = views\n",
        "      # OTHER DETAILS EXCEPT THE ONE ON POSITION 0\n",
        "      otherInfoPattern = re.compile(\":\")\n",
        "      for detail in ls[1:]:\n",
        "        if detail.lower() == \"apply\":\n",
        "          pass\n",
        "        else:\n",
        "          try:\n",
        "            detailed = otherInfoPattern.split(detail)\n",
        "            refined_info[detailed[0]] = detailed[1]\n",
        "          except IndexError:\n",
        "            pass\n",
        "      return refined_info\n",
        "       \n",
        "    for index,url in enumerate(jobLinks):\n",
        "      soup = self.Soup(url)\n",
        "      pattern = re.compile(\"\\s{2,}\")\n",
        "      job_info = [pattern.sub(\" \",li.text.strip().replace(\"\\n\", \"\")) for ul in soup.find_all('ul', class_ = \"list-group list-group-flush\") \n",
        "      for li in ul.find_all('li')]\n",
        "      # DICTIONANRY OF INFO\n",
        "      info[index] = refine_info(job_info[:9])\n",
        "    return info\n",
        "\n",
        "  def get_description(self):\n",
        "    jobLinks = self.get_links()[0]\n",
        "    all_text= {}\n",
        "    for index,link in enumerate(jobLinks):\n",
        "      soup = self.Soup(link)\n",
        "      tags_content = soup.find_all('div', class_= \"clearfix text-formatted field field--name-field-job-full-description field--type-text-long field--label-hidden field__item\")\n",
        "      \n",
        "      for div in tags_content:\n",
        "        temp = []\n",
        "        try:\n",
        "          # GET APPLICATION LINK\n",
        "          app_link = soup.find(\"a\", class_ = \"btn btn-sm btn-success\")['href']\n",
        "          if app_link.startswith(\"/\"):\n",
        "            app_link = \"https://www.jobinrwanda.com\"+app_link\n",
        "          temp.append(app_link)\n",
        "          # print(app_link)\n",
        "        except TypeError:\n",
        "          temp.append(np.nan)\n",
        "        for tag in div.children:\n",
        "          try:\n",
        "            temp.append(tag.get_text())\n",
        "          except (AttributeError, TypeError):\n",
        "            pass\n",
        "        all_text[index] = temp\n",
        "\n",
        "    return all_text\n"
      ],
      "metadata": {
        "id": "FHrZBDzxnr2Q"
      },
      "execution_count": 76,
      "outputs": []
    },
    {
      "cell_type": "code",
      "source": [
        "jobInRwanda = dataMining()\n",
        "job_text = jobInRwanda.get_description()\n",
        "info = jobInRwanda.get_jobInfo()"
      ],
      "metadata": {
        "id": "ruesx8oF2J6K",
        "colab": {
          "base_uri": "https://localhost:8080/"
        },
        "outputId": "736a3f12-03f9-4580-a72c-480d650f5ca5"
      },
      "execution_count": 77,
      "outputs": [
        {
          "output_type": "stream",
          "name": "stdout",
          "text": [
            "['This advert has been viewed 1422 times', 'Location: , RW', 'Sector: Administration, Business, Logistics, Other, Procurement', 'Education level : Master', 'Desired experience: Senior (5+ years of experience)', 'Contract type : Full-time', 'Deadline: Thursday, 10/11/2022 17:00', 'Number of positions: 1', 'Apply']\n",
            "['This advert has been viewed 1343 times', 'Location: Kigali , RW', 'Sector: Procurement', 'Education level : Bachelor', 'Desired experience: Mid career (3 to 5 years of experience)', 'Contract type : Full-time', 'Deadline: Thursday, 10/11/2022 14:00', 'Number of positions: 1', 'Apply']\n",
            "['This advert has been viewed 845 times', 'Location: Kigali , RW', 'Sector: Human resource', 'Education level : Bachelor', 'Desired experience: Senior (5+ years of experience)', 'Contract type : Full-time', 'Deadline: Thursday, 10/11/2022 14:00', 'Number of positions: 1', 'Apply']\n",
            "['This advert has been viewed 840 times', 'Location: Kigali , RW', 'Sector: Engineering', 'Education level : Bachelor', 'Desired experience: Mid career (3 to 5 years of experience)', 'Contract type : Full-time', 'Deadline: Thursday, 10/11/2022 14:00', 'Number of positions: 1', 'Apply']\n",
            "['This advert has been viewed 2034 times', 'Location: Kigali City , RW', 'Sector: Marketing and sales', 'Education level : High school', 'Desired experience: Entry level (1 to 3 years of experience)', 'Contract type : Full-time', 'Deadline: Friday, 11/11/2022 15:00', 'Number of positions: 2', 'Apply']\n",
            "['This advert has been viewed 1440 times', 'Location: , RW', 'Sector: Administration, Business, Management, Other', 'Education level : Bachelor', 'Desired experience: Senior (5+ years of experience)', 'Contract type : Full-time', 'Deadline: Monday, 14/11/2022 23:59', 'Number of positions: 1', 'Apply']\n",
            "['This advert has been viewed 2868 times', 'Location: Kigali , RW', 'Sector: Other', 'Education level : Bachelor', 'Desired experience: Senior (5+ years of experience)', 'Contract type : Full-time', 'Deadline: Friday, 11/11/2022 23:59', 'Number of positions: 1', 'Apply']\n",
            "['This advert has been viewed 950 times', 'Location: Kigali , RW', 'Sector: Agriculture, Business, Management, Procurement, Project management', 'Education level : Bachelor', 'Desired experience: Mid career (3 to 5 years of experience)', 'Contract type : Full-time', 'Deadline: Wednesday, 30/11/2022 23:59', 'Number of positions: 1', 'Apply']\n",
            "['This advert has been viewed 3106 times', 'Location: Malawi, Uganda, Zambia, Rwanda , RW', 'Sector: Other', 'Education level : Not specified', 'Desired experience: Not specified', 'Contract type : Full-time', 'Deadline: Sunday, 27/11/2022 23:59', 'Number of positions: 1', 'Apply']\n",
            "['This advert has been viewed 2258 times', 'Location: Remote , KE', 'Sector: Business, Communications, Other, Project management', 'Education level : Bachelor', 'Desired experience: Senior (5+ years of experience)', 'Contract type : Full-time', 'Deadline: Tuesday, 08/11/2022 23:59', 'Number of positions: 1', 'Apply']\n",
            "['This advert has been viewed 771 times', 'Location: Remote , KE', 'Sector: Other', 'Education level : Not specified', 'Desired experience: Not specified', 'Contract type : Full-time', 'Deadline: Tuesday, 08/11/2022 23:59', 'Number of positions: 1', 'Apply']\n",
            "['This advert has been viewed 772 times', 'Location: Remote , KE', 'Sector: Administration, Business, Computer and IT, Other', 'Education level : Bachelor', 'Desired experience: Mid career (3 to 5 years of experience)', 'Contract type : Full-time', 'Deadline: Tuesday, 08/11/2022 23:59', 'Number of positions: 1', 'Apply']\n",
            "['This advert has been viewed 668 times', 'Location: , RW', 'Sector: Catering, Other', 'Education level : Diploma', 'Desired experience: Senior (5+ years of experience)', 'Contract type : Full-time', 'Deadline: Thursday, 10/11/2022 23:59', 'Number of positions: 1', 'Apply']\n",
            "['This advert has been viewed 2294 times', 'Location: , RW', 'Sector: Business, Hospitality, Management, Other', 'Education level : Bachelor', 'Desired experience: Senior (5+ years of experience)', 'Contract type : Full-time', 'Deadline: Thursday, 10/11/2022 23:59', 'Number of positions: 1', 'Apply']\n",
            "['This advert has been viewed 983 times', 'Location: , RW', 'Sector: Computer and IT, Other', 'Education level : Bachelor', 'Desired experience: Mid career (3 to 5 years of experience)', 'Contract type : Full-time', 'Deadline: Thursday, 10/11/2022 14:00', 'Number of positions: 1', 'Apply']\n",
            "['This advert has been viewed 521 times', 'Location: , RW', 'Sector: Computer and IT, Other', 'Education level : Bachelor', 'Desired experience: Senior (5+ years of experience)', 'Contract type : Full-time', 'Deadline: Thursday, 10/11/2022 14:00', 'Number of positions: 1', 'Apply']\n",
            "['This advert has been viewed 7 times', 'Location: , RW', 'Sector: Business, Human resource, Management, Other', 'Education level : Bachelor', 'Desired experience: Mid career (3 to 5 years of experience)', 'Contract type : Full-time', 'Deadline: Tuesday, 22/11/2022 23:59', 'Number of positions: 1', 'Apply']\n",
            "['This advert has been viewed 30 times', 'Location: , RW', 'Sector: Accounting, Business, Finance and investment, Management, Other', 'Education level : Bachelor', 'Desired experience: Mid career (3 to 5 years of experience)', 'Contract type : Full-time', 'Deadline: Monday, 21/11/2022 23:59', 'Number of positions: 1', 'Apply']\n",
            "['This advert has been viewed 87 times', 'Location: , RW', 'Sector: Management, Other', 'Education level : Bachelor', 'Desired experience: Mid career (3 to 5 years of experience)', 'Contract type : Full-time', 'Deadline: Wednesday, 30/11/2022 23:59', 'Number of positions: 1', 'Apply']\n",
            "['This advert has been viewed 424 times', 'Location: , RW', 'Sector: Health, Other', 'Education level : Bachelor', 'Desired experience: Mid career (3 to 5 years of experience)', 'Contract type : Full-time', 'Deadline: Saturday, 12/11/2022 23:59', 'Number of positions: 1', 'Apply']\n",
            "['This advert has been viewed 87 times', 'Location: Kigali , RW', 'Sector: Agriculture, Business, Communications, International relations, Management, Project management', 'Education level : Bachelor', 'Desired experience: Senior (5+ years of experience)', 'Contract type : Full-time', 'Deadline: Monday, 30/01/2023 23:59', 'Number of positions: 1', 'Apply']\n",
            "['This advert has been viewed 474 times', 'Location: Kigali , RW', 'Sector: Communications, Marketing and sales, Other', 'Education level : Bachelor', 'Desired experience: Mid career (3 to 5 years of experience)', 'Contract type : Full-time', 'Deadline: Sunday, 20/11/2022 23:59', 'Number of positions: 1', 'Apply']\n",
            "['This advert has been viewed 522 times', 'Location: , RW', 'Sector: Administration, Business, Other', 'Education level : Master', 'Desired experience: Senior (5+ years of experience)', 'Contract type : Full-time', 'Deadline: Sunday, 20/11/2022 23:59', 'Number of positions: 1', 'Apply']\n",
            "['This advert has been viewed 753 times', 'Location: , RW', 'Sector: Other', 'Education level : Bachelor', 'Desired experience: Not specified', 'Contract type : Full-time', 'Deadline: Thursday, 17/11/2022 23:59', 'Number of positions: 1', 'Apply']\n",
            "['This advert has been viewed 498 times', 'Location: , RW', 'Sector: Other', 'Education level : Bachelor', 'Desired experience: Not specified', 'Contract type : Full-time', 'Deadline: Thursday, 17/11/2022 23:59', 'Number of positions: 1', 'Apply']\n",
            "['This advert has been viewed 725 times', 'Location: , RW', 'Sector: Administration, Other', 'Education level : Not specified', 'Desired experience: Not specified', 'Contract type : Full-time', 'Deadline: Saturday, 03/12/2022 23:59', 'Number of positions: 1', 'Apply']\n",
            "['This advert has been viewed 950 times', 'Location: , RW', 'Sector: Other, Project management', 'Education level : Bachelor', 'Desired experience: Mid career (3 to 5 years of experience)', 'Contract type : Full-time', 'Deadline: Saturday, 03/12/2022 23:59', 'Number of positions: 1', 'Apply']\n",
            "['This advert has been viewed 680 times', 'Location: , RW', 'Sector: Business, Finance and investment, Marketing and sales, Other', 'Education level : Bachelor', 'Desired experience: Entry level (1 to 3 years of experience)', 'Contract type : Full-time', 'Deadline: Wednesday, 23/11/2022 17:00', 'Number of positions: 1', 'Apply']\n",
            "['This advert has been viewed 518 times', 'Location: , RW', 'Sector: Business, Finance and investment, Marketing and sales, Other', 'Education level : Bachelor', 'Desired experience: Mid career (3 to 5 years of experience)', 'Contract type : Full-time', 'Deadline: Wednesday, 23/11/2022 17:00', 'Number of positions: 1', 'Apply']\n",
            "['This advert has been viewed 325 times', 'Location: , RW', 'Sector: Animal sciences', 'Education level : Bachelor', 'Desired experience: Entry level (1 to 3 years of experience)', 'Contract type : Full-time', 'Deadline: Saturday, 03/12/2022 11:30', 'Number of positions: 1', 'Apply']\n",
            "['This advert has been viewed 567 times', 'Location: , RW', 'Sector: Economics, Health, Other', 'Education level : Bachelor', 'Desired experience: Senior (5+ years of experience)', 'Contract type : Full-time', 'Deadline: Friday, 18/11/2022 23:59', 'Number of positions: 1', 'Apply']\n",
            "['This advert has been viewed 480 times', 'Location: Kigali , RW', 'Sector: Project management', 'Education level : Master', 'Desired experience: Mid career (3 to 5 years of experience)', 'Contract type : Full-time', 'Deadline: Saturday, 19/11/2022 22:20', 'Number of positions: 1', 'Apply']\n",
            "['This advert has been viewed 190 times', 'Location: Kakamega , KE', 'Sector: Agriculture, Agronomy, Business, Management, Marketing and sales, Project management', 'Education level : Bachelor', 'Desired experience: Entry level (1 to 3 years of experience)', 'Contract type : Full-time', 'Deadline: Monday, 30/01/2023 23:59', 'Number of positions: 1', 'Apply']\n",
            "['This advert has been viewed 1342 times', 'Location: Huye , RW', 'Sector: Social sciences', 'Education level : Bachelor', 'Desired experience: Mid career (3 to 5 years of experience)', 'Contract type : Full-time', 'Deadline: Monday, 14/11/2022 16:00', 'Number of positions: 1', 'Head of Rehabilitation Department | Published on 27/10/2022 Deadline 14/11/2022 | Mid career (3 to 5 years of experience) Job']\n",
            "['This advert has been viewed 578 times', 'Location: , RW', 'Sector: Administration, Other', 'Education level : Bachelor', 'Desired experience: Senior (5+ years of experience)', 'Contract type : Full-time', 'Deadline: Friday, 11/11/2022 23:59', 'Number of positions: 1', 'Apply']\n",
            "['This advert has been viewed 1220 times', 'Location: , RW', 'Sector: Administration, Finance and investment', 'Education level : Bachelor', 'Desired experience: Not specified', 'Contract type : Full-time', 'Deadline: Friday, 18/11/2022 23:59', 'Number of positions: 1', 'Apply']\n",
            "['This advert has been viewed 1524 times', 'Location: , RW', 'Sector: Accounting, Administration, Business, Finance and investment, Other', 'Education level : Bachelor', 'Desired experience: Not specified', 'Contract type : Full-time', 'Deadline: Friday, 18/11/2022 17:00', 'Number of positions: 40', 'Senior Business Analyst Kigali | Published on 22/08/2022 Deadline 17/11/2022 | Job']\n",
            "['This advert has been viewed 1870 times', 'Location: Kigali , RW', 'Sector: Law, Other, Procurement', 'Education level : Bachelor', 'Desired experience: Mid career (3 to 5 years of experience)', 'Contract type : Full-time', 'Deadline: Monday, 21/11/2022 23:59', 'Number of positions: 1', 'Apply']\n",
            "['This advert has been viewed 667 times', 'Location: , RW', 'Sector: Human resource', 'Education level : Bachelor', 'Desired experience: Entry level (1 to 3 years of experience)', 'Contract type : Full-time', 'Deadline: Thursday, 01/12/2022 23:59', 'Number of positions: 1', 'Apply']\n",
            "['This advert has been viewed 673 times', 'Location: , RW', 'Sector: Agriculture, Economics, Other, Political science', 'Education level : Master', 'Desired experience: Mid career (3 to 5 years of experience)', 'Contract type : Full-time', 'Deadline: Friday, 11/11/2022 23:59', 'Number of positions: 1', 'Apply']\n",
            "['This advert has been viewed 1192 times', 'Location: Kigali , RW', 'Sector: Computer and IT, Other, Project management', 'Education level : Bachelor', 'Desired experience: Senior (5+ years of experience)', 'Contract type : Full-time', 'Deadline: Friday, 18/11/2022 23:59', 'Number of positions: 1', 'Apply']\n",
            "['This advert has been viewed 710 times', 'Location: , RW', 'Sector: Other, Research', 'Education level : Bachelor', 'Desired experience: Mid career (3 to 5 years of experience)', 'Contract type : Full-time', 'Deadline: Monday, 28/11/2022 23:59', 'Number of positions: 1', 'Apply']\n",
            "['This advert has been viewed 766 times', 'Location: Kigali, Rwanda , RW', 'Sector: Other, Social sciences', 'Education level : Not specified', 'Desired experience: Not specified', 'Contract type : Full-time', 'Deadline: Wednesday, 30/11/2022 23:59', 'Number of positions: 1', 'Apply']\n",
            "['This advert has been viewed 1790 times', 'Location: , RW', 'Sector: Administration, Business, Law, Other', 'Education level : Bachelor', 'Desired experience: Entry level (1 to 3 years of experience)', 'Contract type : Full-time', 'Deadline: Tuesday, 15/11/2022 17:00', 'Number of positions: 1', 'Apply']\n",
            "['This advert has been viewed 280 times', 'Location: Kigali , RW', 'Sector: Agriculture, Agronomy, Business, Computer and IT, Food sciences, Management, Project management', 'Education level : Bachelor', 'Desired experience: Mid career (3 to 5 years of experience)', 'Contract type : Full-time', 'Deadline: Wednesday, 25/01/2023 23:59', 'Number of positions: 1', 'Apply']\n",
            "['This advert has been viewed 1428 times', 'Location: Kigali , RW', 'Sector: Accounting', 'Education level : Bachelor', 'Desired experience: Mid career (3 to 5 years of experience)', 'Contract type : Full-time', 'Deadline: Thursday, 10/11/2022 23:59', 'Number of positions: 1', 'Apply']\n",
            "['This advert has been viewed 1976 times', 'Location: , RW', 'Sector: Other', 'Education level : Bachelor', 'Desired experience: Not specified', 'Contract type : Full-time', 'Deadline: Monday, 14/11/2022 23:59', 'Number of positions: 1', 'Apply']\n",
            "['This advert has been viewed 516 times', 'Location: Kigali , RW', 'Sector: Medicine', 'Education level : Bachelor', 'Desired experience: Mid career (3 to 5 years of experience)', 'Contract type : Full-time', 'Deadline: Sunday, 13/11/2022 23:59', 'Number of positions: 1', 'Apply']\n",
            "['This advert has been viewed 1736 times', 'Location: Kigali , RW', 'Sector: Health, Medicine, Other', 'Education level : Bachelor', 'Desired experience: Mid career (3 to 5 years of experience)', 'Contract type : Full-time', 'Deadline: Sunday, 13/11/2022 23:59', 'Number of positions: 1', 'Apply']\n",
            "['This advert has been viewed 489 times', 'Location: Kigali , RW', 'Sector: Agriculture, Agronomy, Business, Human resource, Management, Project management', 'Education level : Bachelor', 'Desired experience: Entry level (1 to 3 years of experience)', 'Contract type : Full-time', 'Deadline: Wednesday, 28/12/2022 23:59', 'Number of positions: 1', 'Apply']\n",
            "['This advert has been viewed 712 times', 'Location: , RW', 'Sector: Agriculture', 'Education level : High school', 'Desired experience: Entry level (1 to 3 years of experience)', 'Contract type : Full-time', 'Deadline: Monday, 28/11/2022 12:54', 'Number of positions: 2', 'Apply']\n",
            "['This advert has been viewed 661 times', 'Location: , RW', 'Sector: Agriculture, Other', 'Education level : None', 'Desired experience: Mid career (3 to 5 years of experience)', 'Contract type : Full-time', 'Deadline: Monday, 28/11/2022 00:52', 'Number of positions: 1', 'Apply']\n",
            "['This advert has been viewed 660 times', 'Location: , RW', 'Sector: Computer and IT, Education, Other', 'Education level : Bachelor', 'Desired experience: Not specified', 'Contract type : Full-time', 'Deadline: Monday, 28/11/2022 23:59', 'Number of positions: 1', 'Apply']\n",
            "['This advert has been viewed 119 times', 'Location: , RW', 'Sector: Medicine, Other', 'Education level : PhD', 'Desired experience: Senior (5+ years of experience)', 'Contract type : Full-time', 'Deadline: Monday, 28/11/2022 23:59', 'Number of positions: 1', 'Apply']\n",
            "['This advert has been viewed 328 times', 'Location: Kirehe , RW', 'Sector: Agriculture, Agronomy, Business, Demography and data analysis, Food sciences, Management, Project management', 'Education level : Bachelor', 'Desired experience: Entry level (1 to 3 years of experience)', 'Contract type : Full-time', 'Deadline: Saturday, 26/11/2022 23:59', 'Number of positions: 1', 'Apply']\n",
            "['This advert has been viewed 593 times', 'Location: , RW', 'Sector: Agriculture, Food sciences, Other', 'Education level : Bachelor', 'Desired experience: Senior (5+ years of experience)', 'Contract type : Full-time', 'Deadline: Friday, 18/11/2022 17:00', 'Number of positions: 2', 'Apply']\n",
            "['This advert has been viewed 173 times', 'Location: , RW', 'Sector: Health, Medicine, Other', 'Education level : Bachelor', 'Desired experience: Entry level (1 to 3 years of experience)', 'Contract type : Full-time', 'Deadline: Friday, 18/11/2022 17:00', 'Number of positions: 2', 'Apply']\n",
            "['This advert has been viewed 655 times', 'Location: , RW', 'Sector: Business, Management, Other, Public health, Social sciences', 'Education level : Bachelor', 'Desired experience: Mid career (3 to 5 years of experience)', 'Contract type : Full-time', 'Deadline: Monday, 14/11/2022 23:59', 'Number of positions: 1', 'Apply']\n",
            "['This advert has been viewed 692 times', 'Location: , RW', 'Sector: Food sciences, Other', 'Education level : Bachelor', 'Desired experience: Entry level (1 to 3 years of experience)', 'Contract type : Full-time', 'Deadline: Friday, 11/11/2022 23:59', 'Number of positions: 1', 'Apply']\n",
            "['This advert has been viewed 1739 times', 'Location: , RW', 'Sector: Other, Public health', 'Education level : Not specified', 'Desired experience: Not specified', 'Contract type : Full-time', 'Deadline: Wednesday, 09/11/2022 23:59', 'Number of positions: 1', 'Apply']\n",
            "['This advert has been viewed 1084 times', 'Location: Kigali , RW', 'Sector: Administration', 'Education level : Bachelor', 'Desired experience: No experience', 'Contract type : Part-time', 'Deadline: Friday, 18/11/2022 23:59', 'Number of positions: 1', 'Apply']\n",
            "['This advert has been viewed 1560 times', 'Location: Buhinga , RW', 'Sector: Agriculture, Agronomy, Demography and data analysis, Logistics, Management, Procurement', 'Desired experience:', 'Contract type : Full-time', 'Deadline: Saturday, 19/11/2022 23:59', 'Number of positions: 1', 'Apply', 'Senior Business Analyst Kigali | Published on 22/08/2022 Deadline 17/11/2022 | Job']\n",
            "['This advert has been viewed 618 times', 'Location: Kigali , RW', 'Sector: Other', 'Education level : Bachelor', 'Desired experience: Mid career (3 to 5 years of experience)', 'Contract type : Full-time', 'Deadline: Monday, 21/11/2022 23:59', 'Number of positions: 1', 'Apply']\n",
            "['This advert has been viewed 1202 times', 'Location: , RW', 'Sector: Economics, Management, Other', 'Education level : Master', 'Desired experience: Entry level (1 to 3 years of experience)', 'Contract type : Full-time', 'Deadline: Tuesday, 15/11/2022 23:59', 'Number of positions: 1', 'Apply']\n",
            "['This advert has been viewed 1082 times', 'Location: Muhanga/ Gicumbi/ Bugesera, or Nyamagabe , RW', 'Sector: Administration, Agriculture, Agronomy, Business, Management, Project management', 'Education level : Bachelor', 'Desired experience: Entry level (1 to 3 years of experience)', 'Contract type : Full-time', 'Deadline: Friday, 02/12/2022 23:59', 'Number of positions: 4', 'Apply']\n",
            "['This advert has been viewed 593 times', 'Location: Kigali , RW', 'Sector: Agriculture, Agronomy, Business, Communications, International relations, Management, Marketing and sales', 'Education level : Bachelor', 'Desired experience: Mid career (3 to 5 years of experience)', 'Contract type : Full-time', 'Deadline: Tuesday, 03/01/2023 23:59', 'Number of positions: 1', 'Apply']\n",
            "['This advert has been viewed 1114 times', 'Location: Kigali , RW', 'Sector: Economics, Education, Other, Political science', 'Education level : Master', 'Desired experience: Not specified', 'Contract type : Full-time', 'Deadline: Friday, 18/11/2022 23:59', 'Number of positions: 1', 'Apply']\n",
            "['This advert has been viewed 634 times', 'Location: Kigali , RW', 'Sector: Business, Economics, Finance and investment, Marketing and sales, Other', 'Education level : Master', 'Desired experience: Not specified', 'Contract type : Full-time', 'Deadline: Friday, 18/11/2022 23:59', 'Number of positions: 1', 'Apply']\n",
            "['This advert has been viewed 1517 times', 'Location: Kigali City , RW', 'Sector: Business, Finance and investment, Marketing and sales, Other', 'Education level : Bachelor', 'Desired experience: Not specified', 'Contract type : Full-time', 'Deadline: Saturday, 19/11/2022 14:00', 'Number of positions: 50', 'Apply']\n",
            "['This advert has been viewed 1955 times', 'Location: , RW', 'Sector: Marketing and sales, Other', 'Education level : Bachelor', 'Desired experience: Mid career (3 to 5 years of experience)', 'Contract type : Full-time', 'Deadline: Monday, 14/11/2022 23:59', 'Number of positions: 1', 'Apply']\n",
            "['This advert has been viewed 420 times', 'Location: Kigali , RW', 'Sector: Agriculture, Business, Demography and data analysis, Logistics, Management, Project management, Research', 'Education level : Bachelor', 'Desired experience: Entry level (1 to 3 years of experience)', 'Contract type : Full-time', 'Deadline: Tuesday, 10/01/2023 23:59', 'Number of positions: 1', 'Apply']\n",
            "['This advert has been viewed 1335 times', 'Location: Huye - Save , RW', 'Sector: Agriculture, Agronomy, Business, Environmental, Geology, Management', 'Desired experience:', 'Contract type : Full-time', 'Deadline: Wednesday, 30/11/2022 23:59', 'Number of positions: 1', 'Apply', 'Senior Business Analyst Kigali | Published on 22/08/2022 Deadline 17/11/2022 | Job']\n",
            "['This advert has been viewed 1083 times', 'Location: Kirehe , RW', 'Sector: Business, Electrical engineering, Logistics, Management', 'Desired experience:', 'Contract type : Full-time', 'Deadline: Saturday, 19/11/2022 23:59', 'Number of positions: 1', 'Apply', 'Senior Business Analyst Kigali | Published on 22/08/2022 Deadline 17/11/2022 | Job']\n",
            "['This advert has been viewed 1091 times', 'Location: Kigali , RW', 'Sector: Education, Other', 'Education level : Master', 'Desired experience: Mid career (3 to 5 years of experience)', 'Contract type : Full-time', 'Deadline: Thursday, 10/11/2022 23:59', 'Number of positions: 1', 'Apply']\n",
            "['This advert has been viewed 1234 times', 'Location: Kigali , RW', 'Sector: Business, Other', 'Education level : Bachelor', 'Desired experience: Senior (5+ years of experience)', 'Contract type : Full-time', 'Deadline: Thursday, 10/11/2022 23:59', 'Number of positions: 1', 'Apply']\n",
            "['This advert has been viewed 1537 times', 'Location: Kigali , RW', 'Sector: Agriculture, Agronomy, Business, Management', 'Desired experience:', 'Contract type : Full-time', 'Deadline: Sunday, 20/11/2022 23:59', 'Number of positions: 1', 'Apply', 'Senior Business Analyst Kigali | Published on 22/08/2022 Deadline 17/11/2022 | Job']\n",
            "['This advert has been viewed 569 times', 'Location: Kigali , RW', 'Sector: Agriculture, Agronomy, Business, Environmental, Food sciences, Logistics, Property management', 'Education level : Master', 'Desired experience: Senior (5+ years of experience)', 'Contract type : Full-time', 'Deadline: Monday, 28/11/2022 23:59', 'Number of positions: 1', 'Apply']\n",
            "['This advert has been viewed 2575 times', 'Location: Kigali , RW', 'Sector: Agriculture, Business, Computer and IT, Management, Project management', 'Education level : Not specified', 'Desired experience: Not specified', 'Contract type : Full-time', 'Deadline: Tuesday, 06/12/2022 23:59', 'Number of positions: 1', 'Apply']\n",
            "['This advert has been viewed 962 times', 'Location: Kigali , RW', 'Sector: Agriculture, Agronomy, Business, Environmental, Food sciences', 'Desired experience:', 'Contract type : Full-time', 'Deadline: Tuesday, 29/11/2022 23:59', 'Number of positions: 1', 'Apply', 'Senior Business Analyst Kigali | Published on 22/08/2022 Deadline 17/11/2022 | Job']\n",
            "['This advert has been viewed 1890 times', 'Location: Kigali , RW', 'Sector: Agriculture, Business, Demography and data analysis, Management, Project management, Statistics', 'Desired experience:', 'Contract type : Full-time', 'Deadline: Thursday, 17/11/2022 23:59', 'Number of positions: 1', 'Apply', 'Rwanda Seed Innovation Centre Lead Kigali | Published on 01/09/2022 Deadline 29/11/2022 | Job']\n"
          ]
        }
      ]
    },
    {
      "cell_type": "code",
      "source": [
        "# MERGE JOB DESCRIPTION WITH THE JOB INFO\n",
        "def final_textDemo():\n",
        "  final_demo = []\n",
        "  for index in list(info.keys()):\n",
        "    info_value = list(info[index].values())\n",
        "    # ADD COMPANY HIRING\n",
        "    co_info = jobInRwanda.get_links()[1]\n",
        "    info_value.append(co_info[index])\n",
        "    # INCLUDE APPLY LINK\n",
        "    info_value.append(job_text[index][0])\n",
        "    # JOIN PARAGRAPHS \n",
        "    t = '\\n'.join(job_text[index][1:])\n",
        "    g = re.compile(\"\\n|\\\\xa0\").sub(\"\", t)\n",
        "    info_value.append(g)\n",
        "    final_demo.append(info_value)\n",
        "  return final_demo"
      ],
      "metadata": {
        "id": "6M1vZYI28KaD"
      },
      "execution_count": 68,
      "outputs": []
    },
    {
      "cell_type": "code",
      "source": [
        "def makeDataFrame(dataList, columns):\n",
        "  return pd.DataFrame(dataList, columns = columns)"
      ],
      "metadata": {
        "id": "lcrB0k65le1W"
      },
      "execution_count": 80,
      "outputs": []
    },
    {
      "cell_type": "code",
      "source": [
        "# DATAFRAME FORMED\n",
        "titles = list(info[0].keys()) + [\"Company Hiring\", \"Application link\", \"Job Description\"]\n",
        "df = makeDataFrame(final_textDemo(), titles)\n"
      ],
      "metadata": {
        "id": "zlSrP6K6w6ZR"
      },
      "execution_count": null,
      "outputs": []
    },
    {
      "cell_type": "code",
      "source": [
        "df.head(30)"
      ],
      "metadata": {
        "id": "88w4gLIT1MGM"
      },
      "execution_count": null,
      "outputs": []
    },
    {
      "cell_type": "code",
      "source": [
        "# DATA SORTING"
      ],
      "metadata": {
        "id": "J_FyJUHenxcz"
      },
      "execution_count": null,
      "outputs": []
    },
    {
      "cell_type": "code",
      "source": [
        "# DATA PRESENTATION"
      ],
      "metadata": {
        "id": "OiOwDk__n0NH"
      },
      "execution_count": null,
      "outputs": []
    }
  ]
}
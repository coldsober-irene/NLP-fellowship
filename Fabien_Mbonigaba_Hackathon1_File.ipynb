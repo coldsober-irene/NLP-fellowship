{
  "nbformat": 4,
  "nbformat_minor": 0,
  "metadata": {
    "colab": {
      "provenance": [],
      "collapsed_sections": [],
      "include_colab_link": true
    },
    "kernelspec": {
      "name": "python3",
      "display_name": "Python 3"
    },
    "language_info": {
      "name": "python"
    },
    "accelerator": "GPU",
    "gpuClass": "standard"
  },
  "cells": [
    {
      "cell_type": "markdown",
      "metadata": {
        "id": "view-in-github",
        "colab_type": "text"
      },
      "source": [
        "<a href=\"https://colab.research.google.com/github/coldsober-irene/NLP-fellowship/blob/main/Fabien_Mbonigaba_Hackathon1_File.ipynb\" target=\"_parent\"><img src=\"https://colab.research.google.com/assets/colab-badge.svg\" alt=\"Open In Colab\"/></a>"
      ]
    },
    {
      "cell_type": "code",
      "source": [
        "!pip install fastapi pyngrok uvicorn nest-asyncio"
      ],
      "metadata": {
        "id": "xOdQu9ICq3qE"
      },
      "execution_count": null,
      "outputs": []
    },
    {
      "cell_type": "code",
      "source": [
        "!pip install -U easynmt"
      ],
      "metadata": {
        "id": "CfHeD3snrZ-R"
      },
      "execution_count": null,
      "outputs": []
    },
    {
      "cell_type": "code",
      "execution_count": null,
      "metadata": {
        "id": "JbmBYNEFB7uY"
      },
      "outputs": [],
      "source": [
        "import requests\n",
        "from bs4 import BeautifulSoup\n",
        "import pandas as pd\n",
        "import re\n",
        "from fastapi import FastAPI, Response\n",
        "from pyngrok import ngrok\n",
        "import nest_asyncio\n",
        "import uvicorn\n",
        "from starlette.responses import HTMLResponse\n",
        "import json\n",
        "from easynmt import EasyNMT"
      ]
    },
    {
      "cell_type": "code",
      "source": [
        "# set authentication for ngrok\n",
        "!ngrok authtoken 2HJQ5KFUMPejTBPPFOQGP2WRU74_o2vYuu2ZQcGb3zYD6ziq"
      ],
      "metadata": {
        "id": "P1hMhWytr6ec"
      },
      "execution_count": null,
      "outputs": []
    },
    {
      "cell_type": "code",
      "source": [
        "from google.colab import drive\n",
        "drive.mount('/content/drive')"
      ],
      "metadata": {
        "id": "6y2Tr-VGWTzQ"
      },
      "execution_count": null,
      "outputs": []
    },
    {
      "cell_type": "code",
      "source": [
        "# SOUP\n",
        "link = 'https://www.jobinrwanda.com/jobs/featured'\n",
        "soup = BeautifulSoup(requests.get(link).content, 'html.parser')"
      ],
      "metadata": {
        "id": "FPq2kkfZCYLJ"
      },
      "execution_count": null,
      "outputs": []
    },
    {
      "cell_type": "code",
      "source": [
        "# LINKS OF ALL FEATURED CONTENT ON WEB\n",
        "# job title\n",
        "job_titles = {}\n",
        "\n",
        "divs = soup.find_all('div', class_ = 'card-body p-2')\n",
        "f_links = []\n",
        "\n",
        "for index,div in enumerate(divs):\n",
        "  anchor = div.find('a')\n",
        "  found_link = 'https://www.jobinrwanda.com'+anchor['href']\n",
        "  job_titles[index] = anchor.find('h5', class_ = 'card-title').get_text()\n",
        "  f_links.append(found_link)\n",
        "job_titles = list(job_titles.values())"
      ],
      "metadata": {
        "id": "JN5sXNmQxMGG"
      },
      "execution_count": null,
      "outputs": []
    },
    {
      "cell_type": "code",
      "source": [
        "job_titles"
      ],
      "metadata": {
        "id": "rThpjx3oQDQQ"
      },
      "execution_count": null,
      "outputs": []
    },
    {
      "cell_type": "code",
      "source": [
        "# EACH LINK SOUP\n",
        "l_soups = {}\n",
        "for index,link in enumerate(f_links):\n",
        "  SOUP = BeautifulSoup(requests.get(link).content, 'html.parser')\n",
        "  l_soups[index] = SOUP"
      ],
      "metadata": {
        "id": "BCRSt5nxCOwI"
      },
      "execution_count": null,
      "outputs": []
    },
    {
      "cell_type": "code",
      "source": [
        "# DIVS FOR EACH FEATURE CONTENT\n",
        "content_divs = {}\n",
        "job_info = {}\n",
        "for index,soup1 in enumerate(list(l_soups.values())):\n",
        "  content_divs[index] = soup1.find('div', class_ = 'clearfix text-formatted field field--name-field-job-full-description field--type-text-long field--label-hidden field__item')\n",
        "  ul = soup1.find('ul', class_ = 'list-group list-group-flush')\n",
        "  lists = {}\n",
        "  for li in ul.children:\n",
        "    try:\n",
        "      info = re.sub('\\s{2,}|\\n',' ',li.text) # both key and value together as str\n",
        "      # separate key & value to get key:value dictionary\n",
        "      if not 'apply' in info.lower():\n",
        "        if 'viewed' in info:\n",
        "          times = re.search('\\d+', info).group()\n",
        "          lists['views'] = times\n",
        "        else:\n",
        "          k,value = re.split(':', info)[:2]\n",
        "          lists[k.lstrip()] = value\n",
        "    except AttributeError:\n",
        "      pass\n",
        "  job_info[index] = lists\n"
      ],
      "metadata": {
        "id": "lqlsLuwW0Y0V"
      },
      "execution_count": null,
      "outputs": []
    },
    {
      "cell_type": "code",
      "source": [
        "# FULL CONTENT OF EACH FEATURE\n",
        "full_content = {}\n",
        "for index,div in enumerate(list(content_divs.values())):\n",
        "  one_div_content = []\n",
        "  for para in div.find_all('p', class_ = 'text-align-justify'):\n",
        "    one_div_content.append(para.get_text())\n",
        "  full_content[index] = re.sub('\\n|\\\\xa0','','\\n'.join(one_div_content))"
      ],
      "metadata": {
        "id": "01HGW59h1pFo"
      },
      "execution_count": null,
      "outputs": []
    },
    {
      "cell_type": "code",
      "source": [
        "final = []\n",
        "for index in list(content_divs.keys()):\n",
        "  index_info = list(job_info[index].values())\n",
        "  index_text = [full_content[index]]\n",
        "  final.append(index_info + index_text)\n",
        "final\n"
      ],
      "metadata": {
        "id": "ieo8mdHS13xL"
      },
      "execution_count": null,
      "outputs": []
    },
    {
      "cell_type": "code",
      "source": [
        "columns = list(job_info[0].keys()) + ['Description']\n",
        "len(columns)"
      ],
      "metadata": {
        "id": "-R346CChJLIQ"
      },
      "execution_count": null,
      "outputs": []
    },
    {
      "cell_type": "code",
      "source": [
        "dataframe = pd.DataFrame(final, columns = columns)"
      ],
      "metadata": {
        "id": "wI7aVQ2lLcRM"
      },
      "execution_count": null,
      "outputs": []
    },
    {
      "cell_type": "code",
      "source": [
        "dataframe['job title'] = job_titles"
      ],
      "metadata": {
        "id": "3vFXvZDpQX8A"
      },
      "execution_count": null,
      "outputs": []
    },
    {
      "cell_type": "code",
      "source": [
        "dataframe['job title'] = dataframe['job title'].str.replace('\\n','',regex=True).astype('str')"
      ],
      "metadata": {
        "id": "trUnPleLHs1g"
      },
      "execution_count": null,
      "outputs": []
    },
    {
      "cell_type": "code",
      "source": [
        "only_IT_jobs = dataframe.copy()\n",
        "only_IT_jobs['is IT job'] = False\n",
        "\n",
        "for index in range(len(only_IT_jobs)):\n",
        "  if re.findall('Computer|IT|Software', only_IT_jobs.iloc[index]['Sector']):\n",
        "    only_IT_jobs['is IT job'][index] = True"
      ],
      "metadata": {
        "id": "kASSWLtSULIu"
      },
      "execution_count": null,
      "outputs": []
    },
    {
      "cell_type": "code",
      "source": [
        "only_IT_jobs = only_IT_jobs[only_IT_jobs['is IT job'] == True]   # filter for the IT job"
      ],
      "metadata": {
        "id": "P8s8XQg6XoqU"
      },
      "execution_count": null,
      "outputs": []
    },
    {
      "cell_type": "markdown",
      "source": [
        "# umucyo webscrapping"
      ],
      "metadata": {
        "id": "gU478F3vbcVu"
      }
    },
    {
      "cell_type": "code",
      "source": [
        "url = 'https://www.umucyo.gov.rw/eb/bav/selectListAdvertisingListForGU.do'\n",
        "umucyo_soup = BeautifulSoup(requests.get(url).content, 'html.parser')\n",
        "table = umucyo_soup.find('table', class_ = 'article_table mb10')"
      ],
      "metadata": {
        "id": "t5Ivmgdjbbis"
      },
      "execution_count": null,
      "outputs": []
    },
    {
      "cell_type": "code",
      "source": [
        "head_row = table.find('thead').find('tr')\n",
        "titles = []\n",
        "for th in head_row.find_all('th'):\n",
        "  titles.append(re.sub('\\r|\\n|\\t','',th.text))\n",
        "titles = titles[1:]"
      ],
      "metadata": {
        "id": "2TOfd6QrcRmc"
      },
      "execution_count": null,
      "outputs": []
    },
    {
      "cell_type": "code",
      "source": [
        "# table body\n",
        "body_rows = table.find('tbody').find_all('tr') \n",
        "full_data = []\n",
        "for row in body_rows:\n",
        "  ls = []\n",
        "  for detail in row.find_all('td'):\n",
        "    ls.append(re.sub('\\n|\\r|\\t|\\s', '',detail.text))\n",
        "  full_data.append(ls[1:])\n"
      ],
      "metadata": {
        "id": "S5Bjm8n1d3c2"
      },
      "execution_count": null,
      "outputs": []
    },
    {
      "cell_type": "code",
      "source": [
        "umucyo_df = pd.DataFrame(full_data, columns = titles)"
      ],
      "metadata": {
        "id": "_Nb7INlcft7X"
      },
      "execution_count": null,
      "outputs": []
    },
    {
      "cell_type": "markdown",
      "source": [
        "#dataframe translation"
      ],
      "metadata": {
        "id": "TNcQzor1p8Gs"
      }
    },
    {
      "cell_type": "code",
      "source": [
        "model = EasyNMT('opus-mt')\n",
        "app = FastAPI(title = 'my application api')\n",
        "prev = 'en'\n",
        "@app.get('/let')\n",
        "def do(lang:str='', orient:str='index'):\n",
        "  global prev\n",
        "  try:\n",
        "    for index in range(len(only_IT_jobs)):\n",
        "      only_IT_jobs['job title'][index] = model.translate(only_IT_jobs.iloc[index]['job title'], source_lang = prev, target_lang = lang)\n",
        "      only_IT_jobs['Description'][index] = model.translate(only_IT_jobs.iloc[index]['Description'], source_lang = prev, target_lang = lang)\n",
        "      prev = str(lang)\n",
        "    return Response(only_IT_jobs.to_json(orient = orient), media_type = 'application/json')\n",
        "  except:\n",
        "    pass"
      ],
      "metadata": {
        "id": "vMROGyGJIO7T"
      },
      "execution_count": null,
      "outputs": []
    },
    {
      "cell_type": "code",
      "source": [
        "# show all IT jobs\n",
        "@app.get('/itjobs')\n",
        "def show(orient:str='index'):\n",
        "    return Response(only_IT_jobs.to_json(orient = orient), media_type = 'application/json')"
      ],
      "metadata": {
        "id": "6o4xnsZv6FBD"
      },
      "execution_count": null,
      "outputs": []
    },
    {
      "cell_type": "code",
      "source": [
        "# show all information from jobinrwanda\n",
        "@app.get('/jobinrwanda_all')\n",
        "def showall(orient:str='index'):\n",
        "    return Response(dataframe.to_json(orient = orient), media_type = 'application/json')"
      ],
      "metadata": {
        "id": "mdd12Hih6IWQ"
      },
      "execution_count": null,
      "outputs": []
    },
    {
      "cell_type": "code",
      "source": [
        "# show all information retrieved from umucyo\n",
        "@app.get('/umucyo_all')\n",
        "def show_umucyo(orient:str='index'):\n",
        "    return Response(umucyo_df.to_json(orient = orient), media_type = 'application/json')"
      ],
      "metadata": {
        "id": "W3APRP_A6POI"
      },
      "execution_count": null,
      "outputs": []
    },
    {
      "cell_type": "code",
      "source": [
        "tunnel = ngrok.connect(8000)\n",
        "print(\"PUBLIC URL: \", tunnel.public_url)\n",
        "nest_asyncio.apply()\n",
        "uvicorn.run(app, port = 8000)"
      ],
      "metadata": {
        "id": "xp6x2pcKKv80"
      },
      "execution_count": null,
      "outputs": []
    }
  ]
}
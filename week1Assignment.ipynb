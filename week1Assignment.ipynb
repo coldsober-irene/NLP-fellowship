{
  "nbformat": 4,
  "nbformat_minor": 0,
  "metadata": {
    "colab": {
      "provenance": [],
      "collapsed_sections": [],
      "authorship_tag": "ABX9TyMluupVPE9WU8MQY/IEJO+c",
      "include_colab_link": true
    },
    "kernelspec": {
      "name": "python3",
      "display_name": "Python 3"
    },
    "language_info": {
      "name": "python"
    },
    "accelerator": "GPU"
  },
  "cells": [
    {
      "cell_type": "markdown",
      "metadata": {
        "id": "view-in-github",
        "colab_type": "text"
      },
      "source": [
        "<a href=\"https://colab.research.google.com/github/coldsober-irene/NLP-fellowship/blob/main/week1Assignment.ipynb\" target=\"_parent\"><img src=\"https://colab.research.google.com/assets/colab-badge.svg\" alt=\"Open In Colab\"/></a>"
      ]
    },
    {
      "cell_type": "code",
      "execution_count": 14,
      "metadata": {
        "colab": {
          "base_uri": "https://localhost:8080/"
        },
        "id": "wF6cdC1Anycr",
        "outputId": "0dd68182-f9e0-4c87-fbdd-f12b2c45fc2a"
      },
      "outputs": [
        {
          "output_type": "stream",
          "name": "stdout",
          "text": [
            "Drive already mounted at /content/drive; to attempt to forcibly remount, call drive.mount(\"/content/drive\", force_remount=True).\n"
          ]
        }
      ],
      "source": [
        "from google.colab import drive\n",
        "import pandas as pd\n",
        "import re\n",
        "drive.mount(\"/content/drive\")"
      ]
    },
    {
      "cell_type": "code",
      "source": [
        "# open file with pandas\n",
        "file = \"/content/drive/MyDrive/NLP fellowship/week1 tasks/Eng_Kin-Paralleldata (1).csv\"\n",
        "opened_file = pd.read_csv(file)\n",
        "opened_file.head()"
      ],
      "metadata": {
        "colab": {
          "base_uri": "https://localhost:8080/",
          "height": 206
        },
        "id": "qGriJKiqtAQS",
        "outputId": "189503a0-487d-4440-c5cf-e5497a69d90c"
      },
      "execution_count": 3,
      "outputs": [
        {
          "output_type": "execute_result",
          "data": {
            "text/plain": [
              "            ID                                            English  \\\n",
              "0  ID_IFVTMXW8        F_all back to threading messages by subject   \n",
              "1  ID_SBXUPXE3  You will have to restart GIMP for the followin...   \n",
              "2  ID_ZOCZ3PXQ  The radio button whose group this widget belon...   \n",
              "3  ID_6AVBJ1YS           Print all subdirectories in a directory.   \n",
              "4  ID_FW4V44WK  Paste the contents of the clipboard as a new i...   \n",
              "\n",
              "                                         Kinyarwanda  \n",
              "0                 Inyuma Kuri Ubutumwa ku Ikivugwaho  \n",
              "1  Kuri Ongera utangire kugirango i Amahinduka Ku...  \n",
              "2                       Akabuto bya Itsinda iyi Kuri  \n",
              "3          Byose Ububiko bwungirije in a bushyinguro  \n",
              "4  i Ibigize Bya i Ububikokoporora Nka A Gishya I...  "
            ],
            "text/html": [
              "\n",
              "  <div id=\"df-545e049a-c0ee-4d06-bbee-3d4ce1c7a736\">\n",
              "    <div class=\"colab-df-container\">\n",
              "      <div>\n",
              "<style scoped>\n",
              "    .dataframe tbody tr th:only-of-type {\n",
              "        vertical-align: middle;\n",
              "    }\n",
              "\n",
              "    .dataframe tbody tr th {\n",
              "        vertical-align: top;\n",
              "    }\n",
              "\n",
              "    .dataframe thead th {\n",
              "        text-align: right;\n",
              "    }\n",
              "</style>\n",
              "<table border=\"1\" class=\"dataframe\">\n",
              "  <thead>\n",
              "    <tr style=\"text-align: right;\">\n",
              "      <th></th>\n",
              "      <th>ID</th>\n",
              "      <th>English</th>\n",
              "      <th>Kinyarwanda</th>\n",
              "    </tr>\n",
              "  </thead>\n",
              "  <tbody>\n",
              "    <tr>\n",
              "      <th>0</th>\n",
              "      <td>ID_IFVTMXW8</td>\n",
              "      <td>F_all back to threading messages by subject</td>\n",
              "      <td>Inyuma Kuri Ubutumwa ku Ikivugwaho</td>\n",
              "    </tr>\n",
              "    <tr>\n",
              "      <th>1</th>\n",
              "      <td>ID_SBXUPXE3</td>\n",
              "      <td>You will have to restart GIMP for the followin...</td>\n",
              "      <td>Kuri Ongera utangire kugirango i Amahinduka Ku...</td>\n",
              "    </tr>\n",
              "    <tr>\n",
              "      <th>2</th>\n",
              "      <td>ID_ZOCZ3PXQ</td>\n",
              "      <td>The radio button whose group this widget belon...</td>\n",
              "      <td>Akabuto bya Itsinda iyi Kuri</td>\n",
              "    </tr>\n",
              "    <tr>\n",
              "      <th>3</th>\n",
              "      <td>ID_6AVBJ1YS</td>\n",
              "      <td>Print all subdirectories in a directory.</td>\n",
              "      <td>Byose Ububiko bwungirije in a bushyinguro</td>\n",
              "    </tr>\n",
              "    <tr>\n",
              "      <th>4</th>\n",
              "      <td>ID_FW4V44WK</td>\n",
              "      <td>Paste the contents of the clipboard as a new i...</td>\n",
              "      <td>i Ibigize Bya i Ububikokoporora Nka A Gishya I...</td>\n",
              "    </tr>\n",
              "  </tbody>\n",
              "</table>\n",
              "</div>\n",
              "      <button class=\"colab-df-convert\" onclick=\"convertToInteractive('df-545e049a-c0ee-4d06-bbee-3d4ce1c7a736')\"\n",
              "              title=\"Convert this dataframe to an interactive table.\"\n",
              "              style=\"display:none;\">\n",
              "        \n",
              "  <svg xmlns=\"http://www.w3.org/2000/svg\" height=\"24px\"viewBox=\"0 0 24 24\"\n",
              "       width=\"24px\">\n",
              "    <path d=\"M0 0h24v24H0V0z\" fill=\"none\"/>\n",
              "    <path d=\"M18.56 5.44l.94 2.06.94-2.06 2.06-.94-2.06-.94-.94-2.06-.94 2.06-2.06.94zm-11 1L8.5 8.5l.94-2.06 2.06-.94-2.06-.94L8.5 2.5l-.94 2.06-2.06.94zm10 10l.94 2.06.94-2.06 2.06-.94-2.06-.94-.94-2.06-.94 2.06-2.06.94z\"/><path d=\"M17.41 7.96l-1.37-1.37c-.4-.4-.92-.59-1.43-.59-.52 0-1.04.2-1.43.59L10.3 9.45l-7.72 7.72c-.78.78-.78 2.05 0 2.83L4 21.41c.39.39.9.59 1.41.59.51 0 1.02-.2 1.41-.59l7.78-7.78 2.81-2.81c.8-.78.8-2.07 0-2.86zM5.41 20L4 18.59l7.72-7.72 1.47 1.35L5.41 20z\"/>\n",
              "  </svg>\n",
              "      </button>\n",
              "      \n",
              "  <style>\n",
              "    .colab-df-container {\n",
              "      display:flex;\n",
              "      flex-wrap:wrap;\n",
              "      gap: 12px;\n",
              "    }\n",
              "\n",
              "    .colab-df-convert {\n",
              "      background-color: #E8F0FE;\n",
              "      border: none;\n",
              "      border-radius: 50%;\n",
              "      cursor: pointer;\n",
              "      display: none;\n",
              "      fill: #1967D2;\n",
              "      height: 32px;\n",
              "      padding: 0 0 0 0;\n",
              "      width: 32px;\n",
              "    }\n",
              "\n",
              "    .colab-df-convert:hover {\n",
              "      background-color: #E2EBFA;\n",
              "      box-shadow: 0px 1px 2px rgba(60, 64, 67, 0.3), 0px 1px 3px 1px rgba(60, 64, 67, 0.15);\n",
              "      fill: #174EA6;\n",
              "    }\n",
              "\n",
              "    [theme=dark] .colab-df-convert {\n",
              "      background-color: #3B4455;\n",
              "      fill: #D2E3FC;\n",
              "    }\n",
              "\n",
              "    [theme=dark] .colab-df-convert:hover {\n",
              "      background-color: #434B5C;\n",
              "      box-shadow: 0px 1px 3px 1px rgba(0, 0, 0, 0.15);\n",
              "      filter: drop-shadow(0px 1px 2px rgba(0, 0, 0, 0.3));\n",
              "      fill: #FFFFFF;\n",
              "    }\n",
              "  </style>\n",
              "\n",
              "      <script>\n",
              "        const buttonEl =\n",
              "          document.querySelector('#df-545e049a-c0ee-4d06-bbee-3d4ce1c7a736 button.colab-df-convert');\n",
              "        buttonEl.style.display =\n",
              "          google.colab.kernel.accessAllowed ? 'block' : 'none';\n",
              "\n",
              "        async function convertToInteractive(key) {\n",
              "          const element = document.querySelector('#df-545e049a-c0ee-4d06-bbee-3d4ce1c7a736');\n",
              "          const dataTable =\n",
              "            await google.colab.kernel.invokeFunction('convertToInteractive',\n",
              "                                                     [key], {});\n",
              "          if (!dataTable) return;\n",
              "\n",
              "          const docLinkHtml = 'Like what you see? Visit the ' +\n",
              "            '<a target=\"_blank\" href=https://colab.research.google.com/notebooks/data_table.ipynb>data table notebook</a>'\n",
              "            + ' to learn more about interactive tables.';\n",
              "          element.innerHTML = '';\n",
              "          dataTable['output_type'] = 'display_data';\n",
              "          await google.colab.output.renderOutput(dataTable, element);\n",
              "          const docLink = document.createElement('div');\n",
              "          docLink.innerHTML = docLinkHtml;\n",
              "          element.appendChild(docLink);\n",
              "        }\n",
              "      </script>\n",
              "    </div>\n",
              "  </div>\n",
              "  "
            ]
          },
          "metadata": {},
          "execution_count": 3
        }
      ]
    },
    {
      "cell_type": "code",
      "source": [
        "# dataFrame columns\n",
        "cols = opened_file.columns\n",
        "kinyarwanda = cols[2]\n",
        "english = cols[1]"
      ],
      "metadata": {
        "colab": {
          "base_uri": "https://localhost:8080/",
          "height": 35
        },
        "id": "RkWUAKoKwk2o",
        "outputId": "ea0dd899-6b26-4872-f72b-a167acdf9e0a"
      },
      "execution_count": 8,
      "outputs": [
        {
          "output_type": "execute_result",
          "data": {
            "text/plain": [
              "'Kinyarwanda'"
            ],
            "application/vnd.google.colaboratory.intrinsic+json": {
              "type": "string"
            }
          },
          "metadata": {},
          "execution_count": 8
        }
      ]
    },
    {
      "cell_type": "code",
      "source": [
        "# get all english words\n",
        "all_english = opened_file[english]\n",
        "all_kinyarwanda = opened_file[kinyarwanda]\n",
        "all_kinyarwanda"
      ],
      "metadata": {
        "id": "Gw8ITMjNxNjs"
      },
      "execution_count": null,
      "outputs": []
    },
    {
      "cell_type": "code",
      "source": [
        "# turn all text into lower case text\n",
        "lowerCase_english = [line.lower() for line in opened_file[english]]\n",
        "lowerCase_kinyarwanda = [line.lower() for line in opened_file[kinyarwanda]]\n"
      ],
      "metadata": {
        "id": "W8zIwkDbx0Vn"
      },
      "execution_count": null,
      "outputs": []
    },
    {
      "cell_type": "code",
      "source": [
        "# remove digit in text\n",
        "english_withoutNumbers = [re.sub(\"\\d+\", \"\", line) for line in lowerCase_english]\n",
        "kinyarwanda_withoutNumbers = [re.sub(\"\\d+\", \"\", line) for line in lowerCase_kinyarwanda]\n"
      ],
      "metadata": {
        "id": "RgxX-OLEzMhy"
      },
      "execution_count": null,
      "outputs": []
    },
    {
      "cell_type": "code",
      "source": [
        "# remove panctuation\n",
        "pattern = re.compile(r\"[^\\w\\s]\")\n",
        "english_withoutPanct = [re.sub(pattern, \"\", line) for line in english_withoutNumbers]\n",
        "kinyarwanda_withoutPanct = [re.sub(pattern, \"\", line) for line in kinyarwanda_withoutNumbers]\n"
      ],
      "metadata": {
        "id": "oTQpbGzI0aUB"
      },
      "execution_count": null,
      "outputs": []
    },
    {
      "cell_type": "code",
      "source": [
        "# remove the white space\n",
        "english_withoutSpace = [line.strip() for line in english_withoutPanct]\n",
        "kinyarwanda_withoutSpace = [line.strip() for line in kinyarwanda_withoutPanct]\n",
        "kinyarwanda_withoutSpace\n"
      ],
      "metadata": {
        "id": "acTKC9lU2KPN"
      },
      "execution_count": null,
      "outputs": []
    }
  ]
}
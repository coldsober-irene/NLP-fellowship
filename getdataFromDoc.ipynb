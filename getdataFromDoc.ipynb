{
  "nbformat": 4,
  "nbformat_minor": 0,
  "metadata": {
    "colab": {
      "provenance": [],
      "collapsed_sections": [],
      "authorship_tag": "ABX9TyO1mRsarhyu2iztNZ88LeAE",
      "include_colab_link": true
    },
    "kernelspec": {
      "name": "python3",
      "display_name": "Python 3"
    },
    "language_info": {
      "name": "python"
    }
  },
  "cells": [
    {
      "cell_type": "markdown",
      "metadata": {
        "id": "view-in-github",
        "colab_type": "text"
      },
      "source": [
        "<a href=\"https://colab.research.google.com/github/coldsober-irene/NLP-fellowship/blob/main/getdataFromDoc.ipynb\" target=\"_parent\"><img src=\"https://colab.research.google.com/assets/colab-badge.svg\" alt=\"Open In Colab\"/></a>"
      ]
    },
    {
      "cell_type": "code",
      "execution_count": null,
      "metadata": {
        "id": "76MXaY-F-hVA"
      },
      "outputs": [],
      "source": [
        "from google.colab import drive\n",
        "drive.mount(\"/content/drive\")"
      ]
    },
    {
      "cell_type": "code",
      "source": [
        "!pip install textract"
      ],
      "metadata": {
        "id": "MRuRk_mYCJMJ"
      },
      "execution_count": null,
      "outputs": []
    },
    {
      "cell_type": "code",
      "source": [
        "import textract"
      ],
      "metadata": {
        "id": "ppf6ht6nBx5T"
      },
      "execution_count": 5,
      "outputs": []
    },
    {
      "cell_type": "code",
      "source": [
        "my_files = [\"/content/drive/MyDrive/NLP fellowship/Hansard Report - Thursday 6th October 2022 (P).pdf\",\n",
        "            \"/content/drive/MyDrive/NLP fellowship/Hansard Report - Thursday, 13th October 2022 (P).pdf\",\n",
        "            \"/content/drive/MyDrive/NLP fellowship/Hansard Report - Tuesday, 11th October 2022 (P).pdf\",\n",
        "            \"/content/drive/MyDrive/NLP fellowship/Hansard Report - Wednesday, 12th October 2022 (A).pdf\",\n",
        "            \"/content/drive/MyDrive/NLP fellowship/Hansard Report - Wednesday, 12th October 2022 (P)_0.pdf\"\n",
        "            ]"
      ],
      "metadata": {
        "id": "3JzGkSKSA7Qi"
      },
      "execution_count": 2,
      "outputs": []
    },
    {
      "cell_type": "code",
      "source": [
        "new_file = \"/content/drive/MyDrive/NLP fellowship/NewFile.txt\""
      ],
      "metadata": {
        "id": "lK8yFz7PL2ax"
      },
      "execution_count": 15,
      "outputs": []
    },
    {
      "cell_type": "code",
      "source": [
        "def write_toFile(file, contents):\n",
        "  with open(file, \"a+\", encoding = \"utf-8\") as f:\n",
        "    for line in contents.split(\"\\n\"):\n",
        "      if line != \"\":\n",
        "        f.write(line)\n",
        "  "
      ],
      "metadata": {
        "id": "8daQSkrAJGVz"
      },
      "execution_count": 13,
      "outputs": []
    },
    {
      "cell_type": "code",
      "source": [
        "for file in my_files:\n",
        "  contents = textract.process(file)\n",
        "  contents = contents.decode(\"utf-8\")\n",
        "  # ADD CONTENTS TO A FILE\n",
        "  write_toFile(file = new_file, contents = contents)"
      ],
      "metadata": {
        "id": "EId2an55Cn5F"
      },
      "execution_count": 16,
      "outputs": []
    }
  ]
}
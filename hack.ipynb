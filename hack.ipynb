{
  "nbformat": 4,
  "nbformat_minor": 0,
  "metadata": {
    "colab": {
      "provenance": [],
      "authorship_tag": "ABX9TyNrm0mkRI7IkqkHGt42rQRc",
      "include_colab_link": true
    },
    "kernelspec": {
      "name": "python3",
      "display_name": "Python 3"
    },
    "language_info": {
      "name": "python"
    }
  },
  "cells": [
    {
      "cell_type": "markdown",
      "metadata": {
        "id": "view-in-github",
        "colab_type": "text"
      },
      "source": [
        "<a href=\"https://colab.research.google.com/github/coldsober-irene/NLP-fellowship/blob/main/hack.ipynb\" target=\"_parent\"><img src=\"https://colab.research.google.com/assets/colab-badge.svg\" alt=\"Open In Colab\"/></a>"
      ]
    },
    {
      "cell_type": "code",
      "source": [
        "!pip install textract"
      ],
      "metadata": {
        "id": "RDircDcOb_lX"
      },
      "execution_count": null,
      "outputs": []
    },
    {
      "cell_type": "code",
      "source": [
        "\n",
        "import re\n",
        "import requests\n",
        "import textract\n",
        "from bs4 import BeautifulSoup\n",
        "import pandas as pd"
      ],
      "metadata": {
        "id": "eJPKpSEubxrQ"
      },
      "execution_count": 112,
      "outputs": []
    },
    {
      "cell_type": "code",
      "execution_count": 91,
      "metadata": {
        "id": "MzEmD2BqJvBU"
      },
      "outputs": [],
      "source": [
        "class dataMining:\n",
        "  def __init__(self, url, file = None):\n",
        "    self.url = url\n",
        "    self.file = file\n",
        "  \n",
        "  def isScrappable(self):\n",
        "    status = requests.get(self.url).status_code\n",
        "    if status == 200:\n",
        "      return True\n",
        "    else:\n",
        "      return False\n",
        "  \n",
        "  \n"
      ]
    },
    {
      "cell_type": "code",
      "source": [
        "class dataCleaning:\n",
        "  def __init__(self):\n",
        "    pass\n",
        "\n",
        "  def sameCase(self, text = None, lower = True, dataList = None, col_index = 0):\n",
        "    \"\"\"\n",
        "    text can be single or multiline text,\n",
        "    list should not be nested list\n",
        "    \"\"\"\n",
        "    if text:\n",
        "      if lower:\n",
        "        return text.lower()\n",
        "      else:\n",
        "        return text.upper()\n",
        "    elif dataList:\n",
        "      if lower:\n",
        "        df = pd.DataFrame(dataList)\n",
        "        return list(df[col_index].str.lower())\n",
        "      else:\n",
        "        df = pd.DataFrame(dataList)\n",
        "        return list(df[col_index].str.upper())\n",
        "      \n",
        "\n",
        "  def getEmails(self, text):\n",
        "    pattern = re.compile(\"\\w+\\S+@\\S+\")\n",
        "    return pattern.findall(text)\n",
        "\n",
        "  def getUrls(self, text):\n",
        "    pattern = re.compile(\"\\w+\\S+//\\S+|\\w+\\S+\\.\\S+\")\n",
        "    return pattern.findall(text)\n",
        "  \n",
        "  def getUrls_and_Emails(self, text):\n",
        "    pattern = re.compile(\"\\w+\\S+@\\S+|\\w+\\S+//\\S+|\\w+\\S+\\.\\S+\")\n",
        "    return pattern.findall(text)"
      ],
      "metadata": {
        "id": "XLbNmBD6KBZt"
      },
      "execution_count": 87,
      "outputs": []
    },
    {
      "cell_type": "code",
      "source": [
        "import string\n",
        "punc = string.punctuation\n",
        "print(\" \" in punc)\n",
        "t = \"my name 20irene2022@!_gmail.com and this is also claude...___...2022@!_gmail.com and https://google.com and youtube.com//for.go and this in.me.us\"\n",
        "p = re.compile(\"\\w+\\S+@\\S+|\\w+\\S+//\\S+|\\w+\\S+\\.\\S+\")\n",
        "found = p.findall(t)\n",
        "found\n"
      ],
      "metadata": {
        "colab": {
          "base_uri": "https://localhost:8080/"
        },
        "id": "VeuZQIMbmkSB",
        "outputId": "72f35b1b-fe9c-42aa-e29b-09a34d4a94c8"
      },
      "execution_count": 88,
      "outputs": [
        {
          "output_type": "stream",
          "name": "stdout",
          "text": [
            "False\n"
          ]
        },
        {
          "output_type": "execute_result",
          "data": {
            "text/plain": [
              "['20irene2022@!_gmail.com',\n",
              " 'claude...___...2022@!_gmail.com',\n",
              " 'https://google.com',\n",
              " 'youtube.com//for.go',\n",
              " 'in.me.us']"
            ]
          },
          "metadata": {},
          "execution_count": 88
        }
      ]
    }
  ]
}
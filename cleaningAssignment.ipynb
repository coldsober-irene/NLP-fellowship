{
  "nbformat": 4,
  "nbformat_minor": 0,
  "metadata": {
    "colab": {
      "provenance": [],
      "mount_file_id": "1aRghEHFQCpNk4HaZMzm5FBXRwJ8rF1Wy",
      "authorship_tag": "ABX9TyOLy2tIlg1lDpyHherWjsmA",
      "include_colab_link": true
    },
    "kernelspec": {
      "name": "python3",
      "display_name": "Python 3"
    },
    "language_info": {
      "name": "python"
    }
  },
  "cells": [
    {
      "cell_type": "markdown",
      "metadata": {
        "id": "view-in-github",
        "colab_type": "text"
      },
      "source": [
        "<a href=\"https://colab.research.google.com/github/coldsober-irene/NLP-fellowship/blob/main/cleaningAssignment.ipynb\" target=\"_parent\"><img src=\"https://colab.research.google.com/assets/colab-badge.svg\" alt=\"Open In Colab\"/></a>"
      ]
    },
    {
      "cell_type": "code",
      "source": [
        "!pip install emoji"
      ],
      "metadata": {
        "id": "7lwjHC9rlxBp"
      },
      "execution_count": null,
      "outputs": []
    },
    {
      "cell_type": "code",
      "execution_count": 108,
      "metadata": {
        "id": "xCvbQE7Kk-bQ"
      },
      "outputs": [],
      "source": [
        "import pandas as pd\n",
        "from pandas import Series, DataFrame\n",
        "import re\n",
        "import spacy\n"
      ]
    },
    {
      "cell_type": "code",
      "source": [
        "file = \"/content/drive/MyDrive/NLP fellowship/week1 tasks/Eng_Kin-Paralleldata (1).csv\"\n",
        "# df = pd.read_csv(file)"
      ],
      "metadata": {
        "id": "sT-3gPQolNTh"
      },
      "execution_count": 25,
      "outputs": []
    },
    {
      "cell_type": "markdown",
      "source": [
        "**ASSIGNMENT I**: Create a function that will run all the steps in one iteration. Run the code on the csv file used in the last assignment"
      ],
      "metadata": {
        "id": "C6_ij-Irx3bp"
      }
    },
    {
      "cell_type": "code",
      "source": [
        "def allProcess(file):\n",
        "  df = pd.read_csv(file)\n",
        "  # REMOVE index colum\n",
        "  del df['ID']\n",
        "\n",
        "  # NORMALIZE BOTH ENGLISH AND KINYARWANDA\n",
        "  df['English'] = df['English'].astype('str').str.lower()\n",
        "  df['Kinyarwanda'] = df['Kinyarwanda'].astype('str').str.lower()\n",
        "\n",
        "  # REMOVE EXTRA WHITE SPACES\n",
        "  for row in range(len(df)):\n",
        "    df[\"English\"][row] = re.sub(\"\\s{2,}\",\" \", df.loc[row][\"English\"])\n",
        "    df['Kinyarwanda'][row] = re.sub('\\s{2,}', \" \", df.loc[row]['Kinyarwanda'])\n",
        "  \n",
        "  email_pattern = \"[0-9A-Za-z\\._-]+@[0-9A-Za-z|\\s]+\\.[a-z| \\S |]+\"\n",
        "  url_pattern = re.compile(\"http[s]?:\\/\\/[\\w]+\\.[\\w]+[.\\w|\\/]+\")\n",
        "  punc_pattern = re.compile(\"[^\\w\\s]+\") \n",
        "\n",
        "  # GET RID OF Emails\n",
        "  for row in range(len(df)):\n",
        "    df[\"English\"][row] = re.sub(email_pattern, \"\", df.loc[row][\"English\"])\n",
        "    df['Kinyarwanda'][row] = re.sub(email_pattern, \"\", df.loc[row]['Kinyarwanda'])\n",
        "  \n",
        "  # GET RID OF URLs\n",
        "  for row in range(len(df)):\n",
        "    df['Kinyarwanda'][row] = url_pattern.sub(\"\",df.loc[row]['Kinyarwanda'])\n",
        "    df[\"English\"][row] = url_pattern.sub(\"\",df.loc[row][\"English\"])\n",
        "\n",
        "  # REMOVE PUNCTUATIONS\n",
        "  for row in range(len(df)):\n",
        "    df['Kinyarwanda'][row] = punc_pattern.sub(\"\",df.loc[row]['Kinyarwanda'])\n",
        "    df[\"English\"][row] = punc_pattern.sub(\"\",df.loc[row][\"English\"])\n",
        "\n",
        "  return df\n",
        "df = allProcess(file)"
      ],
      "metadata": {
        "id": "bcmlSmy9m-P4"
      },
      "execution_count": 113,
      "outputs": []
    },
    {
      "cell_type": "markdown",
      "source": [
        "**ASSIGNMENT II**: Create a function that will take text and return word tokens for the Eng-Kin dataset. For Kinyarwanda text remember the abbrevations"
      ],
      "metadata": {
        "id": "-7_yf8bhyYdT"
      }
    },
    {
      "cell_type": "code",
      "source": [
        "def remove_meaninglessWords_inKiny(data):\n",
        "  global df\n",
        "  all_abbr = []\n",
        "  abbr_pattern = re.compile(r\"\\b([b-df-hj-np-tv-z]+)\\b\")\n",
        "  for row in range(len(df)):\n",
        "    if abbr_pattern.findall(df.loc[row]['Kinyarwanda']):\n",
        "      [all_abbr.append(abbr) for abbr in abbr_pattern.findall(df.loc[row]['Kinyarwanda'])]\n",
        "      df['Kinyarwanda'][row] = abbr_pattern.sub(\"\", df.loc[row]['Kinyarwanda'])\n",
        "  return all_abbr"
      ],
      "metadata": {
        "id": "OEWz7nNY74CO"
      },
      "execution_count": null,
      "outputs": []
    },
    {
      "cell_type": "code",
      "source": [
        "def Tokenize(data):\n",
        "  # tokenize english\n",
        "  data[\"en_tokens\"] = None\n",
        "  data[\"kiny_tokens\"] = None\n",
        "  tokenizer = spacy.load(\"en_core_web_sm\")\n",
        "  for row in range(len(data)):\n",
        "    data[\"en_tokens\"][row] = [token.text for token in tokenizer(data.loc[row][\"English\"])]\n",
        "    data[\"kiny_tokens\"][row] = [token.text for token in tokenizer(data.loc[row][\"Kinyarwanda\"])]\n",
        "  \n",
        "Tokenize(df)"
      ],
      "metadata": {
        "id": "UpImqP-IIXW9"
      },
      "execution_count": 123,
      "outputs": []
    },
    {
      "cell_type": "code",
      "source": [
        "df.head(20)"
      ],
      "metadata": {
        "id": "UahE6R_xmjVH"
      },
      "execution_count": null,
      "outputs": []
    },
    {
      "cell_type": "code",
      "source": [],
      "metadata": {
        "id": "eNrkXjwXE4yP"
      },
      "execution_count": null,
      "outputs": []
    },
    {
      "cell_type": "code",
      "source": [
        "# all_abbr\n",
        "# df = pd.DataFrame({\"kinyarwanda\":all_abbr})\n",
        "# df.to_csv(\"abbr_found_in_kinyFile.csv\")\n"
      ],
      "metadata": {
        "id": "D5stRY_H25be"
      },
      "execution_count": 107,
      "outputs": []
    }
  ]
}
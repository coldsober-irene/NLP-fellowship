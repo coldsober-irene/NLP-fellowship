{
  "nbformat": 4,
  "nbformat_minor": 0,
  "metadata": {
    "colab": {
      "provenance": [],
      "collapsed_sections": [],
      "authorship_tag": "ABX9TyNsBk2wtUN/6YCGBeeIilsv",
      "include_colab_link": true
    },
    "kernelspec": {
      "name": "python3",
      "display_name": "Python 3"
    },
    "language_info": {
      "name": "python"
    },
    "accelerator": "GPU"
  },
  "cells": [
    {
      "cell_type": "markdown",
      "metadata": {
        "id": "view-in-github",
        "colab_type": "text"
      },
      "source": [
        "<a href=\"https://colab.research.google.com/github/coldsober-irene/NLP-fellowship/blob/main/GB.ipynb\" target=\"_parent\"><img src=\"https://colab.research.google.com/assets/colab-badge.svg\" alt=\"Open In Colab\"/></a>"
      ]
    },
    {
      "cell_type": "code",
      "execution_count": null,
      "metadata": {
        "colab": {
          "base_uri": "https://localhost:8080/"
        },
        "id": "ATlLA54-Waqx",
        "outputId": "8dbdcdba-a57a-4f21-9528-903d8ec67c83"
      },
      "outputs": [
        {
          "output_type": "stream",
          "name": "stdout",
          "text": [
            "irene do you have 24 ?\n",
            "irene do you have 24 ?\n",
            "irene do you have 19 ?\n",
            "irene do you have 32 ?\n",
            "__________________________________________________\n",
            "bajo do you have 24 ?\n",
            "bajo do you have 24 ?\n",
            "bajo do you have 19 ?\n",
            "bajo do you have 32 ?\n",
            "__________________________________________________\n",
            "Belyze do you have 24 ?\n",
            "Belyze do you have 24 ?\n",
            "Belyze do you have 19 ?\n",
            "Belyze do you have 32 ?\n",
            "__________________________________________________\n",
            "claude do you have 24 ?\n",
            "claude do you have 24 ?\n",
            "claude do you have 19 ?\n",
            "claude do you have 32 ?\n",
            "__________________________________________________\n"
          ]
        }
      ],
      "source": [
        "for name in [\"irene\", \"bajo\", \"Belyze\", \"claude\"]:\n",
        "  for age in [24, 24, 19, 32]:\n",
        "    print(f\"{name} do you have {age} ?\")\n",
        "  # if the name anchored ends, cut a line to show where its executions ended\n",
        "  print(\"_\"*50)"
      ]
    },
    {
      "cell_type": "markdown",
      "source": [],
      "metadata": {
        "id": "gCw0_JpxWenb"
      }
    },
    {
      "cell_type": "markdown",
      "source": [
        "iyo dufite nested loops rero, the child loop is executed times equals to the number of items that are in the parent loop. you take the first item in parent loop then iyo item ikaba as a leader who is leading how the entire child loop is being executed, and once entire child loop is executed, then another parent item takes the lead and so forth.\n"
      ],
      "metadata": {
        "id": "cCDqgJnrYMGT"
      }
    },
    {
      "cell_type": "code",
      "source": [],
      "metadata": {
        "id": "j47_6kKLY4Va"
      },
      "execution_count": null,
      "outputs": []
    }
  ]
}
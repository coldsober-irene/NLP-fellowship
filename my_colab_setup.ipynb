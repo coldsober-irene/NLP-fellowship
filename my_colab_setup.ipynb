{
  "cells": [
    {
      "cell_type": "markdown",
      "metadata": {
        "id": "view-in-github",
        "colab_type": "text"
      },
      "source": [
        "<a href=\"https://colab.research.google.com/github/coldsober-irene/NLP-fellowship/blob/main/my_colab_setup.ipynb\" target=\"_parent\"><img src=\"https://colab.research.google.com/assets/colab-badge.svg\" alt=\"Open In Colab\"/></a>"
      ]
    },
    {
      "cell_type": "code",
      "execution_count": null,
      "metadata": {
        "colab": {
          "base_uri": "https://localhost:8080/"
        },
        "id": "LbNR_By8V3jP",
        "outputId": "95c7b372-3a83-4895-a487-54c97534172e"
      },
      "outputs": [
        {
          "output_type": "stream",
          "name": "stdout",
          "text": [
            "['.config', 'irene', 'drive', 'pc.png', 'sample_data']\n"
          ]
        }
      ],
      "source": [
        "import json \n",
        "import requests\n",
        "import os\n",
        "\n",
        "def extractor(filePath = \"\", link = \"\", outputFormat = \"\"):\n",
        "  decision = None\n",
        "  if link and not filePath:\n",
        "    pass\n",
        "  elif filePath and not link:\n",
        "    pass\n",
        "  elif link and filePath:\n",
        "    print(\"please enter 1 for link preference or 2 for filePath\")\n",
        "    decision = int(input(\"decision: \"))\n",
        "  else:\n",
        "    print(\"please make sure you have either selected the json file or you passed an API instead\")\n",
        "  \n",
        "  def baseOnDecision():\n",
        "    if decision == 1:\n",
        "      onlineData = requests.get(link)\n",
        "    \n",
        "# CHECK IN DIRECTORY\n",
        "# files = os.listdir()\n",
        "# print(files)\n",
        "  "
      ]
    },
    {
      "cell_type": "code",
      "source": [
        "# check the image\n",
        "import cv2\n",
        "import pandas as pd\n",
        "\n",
        "image = cv2.imread('/content/drive/MyDrive/NLP fellowship/pcDark.png')\n",
        "csv_file = \"/content/drive/MyDrive/NLP fellowship/machine-readable-business-employment-data-june-2022-quarter.csv\"\n",
        "print(image[3])\n",
        "\n",
        "with open(csv_file) as file:\n",
        "  lines = file.readlines()\n",
        "  # get first line\n",
        "  print(lines[0]) \n",
        "\n",
        "# SHOW THE FILE USING PANDAS\n",
        "df = pd.read_csv(csv_file)\n",
        "# show heading\n",
        "df.head()"
      ],
      "metadata": {
        "colab": {
          "base_uri": "https://localhost:8080/",
          "height": 687
        },
        "id": "zD2GWledpd08",
        "outputId": "6285a8cc-a273-490a-fd88-29645cff6bd2"
      },
      "execution_count": null,
      "outputs": [
        {
          "output_type": "stream",
          "name": "stdout",
          "text": [
            "[[0 0 0]\n",
            " [0 0 0]\n",
            " [0 0 0]\n",
            " ...\n",
            " [0 0 0]\n",
            " [0 0 0]\n",
            " [0 0 0]]\n",
            "Series_reference,Period,Data_value,Suppressed,STATUS,UNITS,Magnitude,Subject,Group,Series_title_1,Series_title_2,Series_title_3,Series_title_4,Series_title_5\n",
            "\n"
          ]
        },
        {
          "output_type": "execute_result",
          "data": {
            "text/plain": [
              "  Series_reference   Period  Data_value Suppressed STATUS   UNITS  Magnitude  \\\n",
              "0      BDCQ.SEA1AA  2011.06     80078.0        NaN      F  Number          0   \n",
              "1      BDCQ.SEA1AA  2011.09     78324.0        NaN      F  Number          0   \n",
              "2      BDCQ.SEA1AA  2011.12     85850.0        NaN      F  Number          0   \n",
              "3      BDCQ.SEA1AA  2012.03     90743.0        NaN      F  Number          0   \n",
              "4      BDCQ.SEA1AA  2012.06     81780.0        NaN      F  Number          0   \n",
              "\n",
              "                          Subject                            Group  \\\n",
              "0  Business Data Collection - BDC  Industry by employment variable   \n",
              "1  Business Data Collection - BDC  Industry by employment variable   \n",
              "2  Business Data Collection - BDC  Industry by employment variable   \n",
              "3  Business Data Collection - BDC  Industry by employment variable   \n",
              "4  Business Data Collection - BDC  Industry by employment variable   \n",
              "\n",
              "  Series_title_1                     Series_title_2 Series_title_3  \\\n",
              "0    Filled jobs  Agriculture, Forestry and Fishing         Actual   \n",
              "1    Filled jobs  Agriculture, Forestry and Fishing         Actual   \n",
              "2    Filled jobs  Agriculture, Forestry and Fishing         Actual   \n",
              "3    Filled jobs  Agriculture, Forestry and Fishing         Actual   \n",
              "4    Filled jobs  Agriculture, Forestry and Fishing         Actual   \n",
              "\n",
              "   Series_title_4  Series_title_5  \n",
              "0             NaN             NaN  \n",
              "1             NaN             NaN  \n",
              "2             NaN             NaN  \n",
              "3             NaN             NaN  \n",
              "4             NaN             NaN  "
            ],
            "text/html": [
              "\n",
              "  <div id=\"df-1200dc6f-c105-42e4-907a-b128a8df623e\">\n",
              "    <div class=\"colab-df-container\">\n",
              "      <div>\n",
              "<style scoped>\n",
              "    .dataframe tbody tr th:only-of-type {\n",
              "        vertical-align: middle;\n",
              "    }\n",
              "\n",
              "    .dataframe tbody tr th {\n",
              "        vertical-align: top;\n",
              "    }\n",
              "\n",
              "    .dataframe thead th {\n",
              "        text-align: right;\n",
              "    }\n",
              "</style>\n",
              "<table border=\"1\" class=\"dataframe\">\n",
              "  <thead>\n",
              "    <tr style=\"text-align: right;\">\n",
              "      <th></th>\n",
              "      <th>Series_reference</th>\n",
              "      <th>Period</th>\n",
              "      <th>Data_value</th>\n",
              "      <th>Suppressed</th>\n",
              "      <th>STATUS</th>\n",
              "      <th>UNITS</th>\n",
              "      <th>Magnitude</th>\n",
              "      <th>Subject</th>\n",
              "      <th>Group</th>\n",
              "      <th>Series_title_1</th>\n",
              "      <th>Series_title_2</th>\n",
              "      <th>Series_title_3</th>\n",
              "      <th>Series_title_4</th>\n",
              "      <th>Series_title_5</th>\n",
              "    </tr>\n",
              "  </thead>\n",
              "  <tbody>\n",
              "    <tr>\n",
              "      <th>0</th>\n",
              "      <td>BDCQ.SEA1AA</td>\n",
              "      <td>2011.06</td>\n",
              "      <td>80078.0</td>\n",
              "      <td>NaN</td>\n",
              "      <td>F</td>\n",
              "      <td>Number</td>\n",
              "      <td>0</td>\n",
              "      <td>Business Data Collection - BDC</td>\n",
              "      <td>Industry by employment variable</td>\n",
              "      <td>Filled jobs</td>\n",
              "      <td>Agriculture, Forestry and Fishing</td>\n",
              "      <td>Actual</td>\n",
              "      <td>NaN</td>\n",
              "      <td>NaN</td>\n",
              "    </tr>\n",
              "    <tr>\n",
              "      <th>1</th>\n",
              "      <td>BDCQ.SEA1AA</td>\n",
              "      <td>2011.09</td>\n",
              "      <td>78324.0</td>\n",
              "      <td>NaN</td>\n",
              "      <td>F</td>\n",
              "      <td>Number</td>\n",
              "      <td>0</td>\n",
              "      <td>Business Data Collection - BDC</td>\n",
              "      <td>Industry by employment variable</td>\n",
              "      <td>Filled jobs</td>\n",
              "      <td>Agriculture, Forestry and Fishing</td>\n",
              "      <td>Actual</td>\n",
              "      <td>NaN</td>\n",
              "      <td>NaN</td>\n",
              "    </tr>\n",
              "    <tr>\n",
              "      <th>2</th>\n",
              "      <td>BDCQ.SEA1AA</td>\n",
              "      <td>2011.12</td>\n",
              "      <td>85850.0</td>\n",
              "      <td>NaN</td>\n",
              "      <td>F</td>\n",
              "      <td>Number</td>\n",
              "      <td>0</td>\n",
              "      <td>Business Data Collection - BDC</td>\n",
              "      <td>Industry by employment variable</td>\n",
              "      <td>Filled jobs</td>\n",
              "      <td>Agriculture, Forestry and Fishing</td>\n",
              "      <td>Actual</td>\n",
              "      <td>NaN</td>\n",
              "      <td>NaN</td>\n",
              "    </tr>\n",
              "    <tr>\n",
              "      <th>3</th>\n",
              "      <td>BDCQ.SEA1AA</td>\n",
              "      <td>2012.03</td>\n",
              "      <td>90743.0</td>\n",
              "      <td>NaN</td>\n",
              "      <td>F</td>\n",
              "      <td>Number</td>\n",
              "      <td>0</td>\n",
              "      <td>Business Data Collection - BDC</td>\n",
              "      <td>Industry by employment variable</td>\n",
              "      <td>Filled jobs</td>\n",
              "      <td>Agriculture, Forestry and Fishing</td>\n",
              "      <td>Actual</td>\n",
              "      <td>NaN</td>\n",
              "      <td>NaN</td>\n",
              "    </tr>\n",
              "    <tr>\n",
              "      <th>4</th>\n",
              "      <td>BDCQ.SEA1AA</td>\n",
              "      <td>2012.06</td>\n",
              "      <td>81780.0</td>\n",
              "      <td>NaN</td>\n",
              "      <td>F</td>\n",
              "      <td>Number</td>\n",
              "      <td>0</td>\n",
              "      <td>Business Data Collection - BDC</td>\n",
              "      <td>Industry by employment variable</td>\n",
              "      <td>Filled jobs</td>\n",
              "      <td>Agriculture, Forestry and Fishing</td>\n",
              "      <td>Actual</td>\n",
              "      <td>NaN</td>\n",
              "      <td>NaN</td>\n",
              "    </tr>\n",
              "  </tbody>\n",
              "</table>\n",
              "</div>\n",
              "      <button class=\"colab-df-convert\" onclick=\"convertToInteractive('df-1200dc6f-c105-42e4-907a-b128a8df623e')\"\n",
              "              title=\"Convert this dataframe to an interactive table.\"\n",
              "              style=\"display:none;\">\n",
              "        \n",
              "  <svg xmlns=\"http://www.w3.org/2000/svg\" height=\"24px\"viewBox=\"0 0 24 24\"\n",
              "       width=\"24px\">\n",
              "    <path d=\"M0 0h24v24H0V0z\" fill=\"none\"/>\n",
              "    <path d=\"M18.56 5.44l.94 2.06.94-2.06 2.06-.94-2.06-.94-.94-2.06-.94 2.06-2.06.94zm-11 1L8.5 8.5l.94-2.06 2.06-.94-2.06-.94L8.5 2.5l-.94 2.06-2.06.94zm10 10l.94 2.06.94-2.06 2.06-.94-2.06-.94-.94-2.06-.94 2.06-2.06.94z\"/><path d=\"M17.41 7.96l-1.37-1.37c-.4-.4-.92-.59-1.43-.59-.52 0-1.04.2-1.43.59L10.3 9.45l-7.72 7.72c-.78.78-.78 2.05 0 2.83L4 21.41c.39.39.9.59 1.41.59.51 0 1.02-.2 1.41-.59l7.78-7.78 2.81-2.81c.8-.78.8-2.07 0-2.86zM5.41 20L4 18.59l7.72-7.72 1.47 1.35L5.41 20z\"/>\n",
              "  </svg>\n",
              "      </button>\n",
              "      \n",
              "  <style>\n",
              "    .colab-df-container {\n",
              "      display:flex;\n",
              "      flex-wrap:wrap;\n",
              "      gap: 12px;\n",
              "    }\n",
              "\n",
              "    .colab-df-convert {\n",
              "      background-color: #E8F0FE;\n",
              "      border: none;\n",
              "      border-radius: 50%;\n",
              "      cursor: pointer;\n",
              "      display: none;\n",
              "      fill: #1967D2;\n",
              "      height: 32px;\n",
              "      padding: 0 0 0 0;\n",
              "      width: 32px;\n",
              "    }\n",
              "\n",
              "    .colab-df-convert:hover {\n",
              "      background-color: #E2EBFA;\n",
              "      box-shadow: 0px 1px 2px rgba(60, 64, 67, 0.3), 0px 1px 3px 1px rgba(60, 64, 67, 0.15);\n",
              "      fill: #174EA6;\n",
              "    }\n",
              "\n",
              "    [theme=dark] .colab-df-convert {\n",
              "      background-color: #3B4455;\n",
              "      fill: #D2E3FC;\n",
              "    }\n",
              "\n",
              "    [theme=dark] .colab-df-convert:hover {\n",
              "      background-color: #434B5C;\n",
              "      box-shadow: 0px 1px 3px 1px rgba(0, 0, 0, 0.15);\n",
              "      filter: drop-shadow(0px 1px 2px rgba(0, 0, 0, 0.3));\n",
              "      fill: #FFFFFF;\n",
              "    }\n",
              "  </style>\n",
              "\n",
              "      <script>\n",
              "        const buttonEl =\n",
              "          document.querySelector('#df-1200dc6f-c105-42e4-907a-b128a8df623e button.colab-df-convert');\n",
              "        buttonEl.style.display =\n",
              "          google.colab.kernel.accessAllowed ? 'block' : 'none';\n",
              "\n",
              "        async function convertToInteractive(key) {\n",
              "          const element = document.querySelector('#df-1200dc6f-c105-42e4-907a-b128a8df623e');\n",
              "          const dataTable =\n",
              "            await google.colab.kernel.invokeFunction('convertToInteractive',\n",
              "                                                     [key], {});\n",
              "          if (!dataTable) return;\n",
              "\n",
              "          const docLinkHtml = 'Like what you see? Visit the ' +\n",
              "            '<a target=\"_blank\" href=https://colab.research.google.com/notebooks/data_table.ipynb>data table notebook</a>'\n",
              "            + ' to learn more about interactive tables.';\n",
              "          element.innerHTML = '';\n",
              "          dataTable['output_type'] = 'display_data';\n",
              "          await google.colab.output.renderOutput(dataTable, element);\n",
              "          const docLink = document.createElement('div');\n",
              "          docLink.innerHTML = docLinkHtml;\n",
              "          element.appendChild(docLink);\n",
              "        }\n",
              "      </script>\n",
              "    </div>\n",
              "  </div>\n",
              "  "
            ]
          },
          "metadata": {},
          "execution_count": 11
        }
      ]
    },
    {
      "cell_type": "code",
      "source": [
        "# importing the files from google drive using codes\n",
        "from google.colab import drive\n",
        "# mount the drive to the colab\n",
        "drive.mount(\"/content/irene\")"
      ],
      "metadata": {
        "colab": {
          "base_uri": "https://localhost:8080/"
        },
        "id": "hC1NIbGtnMhj",
        "outputId": "1f0a7724-d3e7-4aca-86f5-0926637db44f"
      },
      "execution_count": null,
      "outputs": [
        {
          "output_type": "stream",
          "name": "stdout",
          "text": [
            "Mounted at /content/irene\n"
          ]
        }
      ]
    },
    {
      "cell_type": "code",
      "source": [
        "from google.colab import drive\n",
        "drive.mount('/content/drive')"
      ],
      "metadata": {
        "colab": {
          "base_uri": "https://localhost:8080/"
        },
        "id": "X6tz91HOmUjm",
        "outputId": "bcbe4bc4-b4ee-4dbb-90c2-aede2f9f535c"
      },
      "execution_count": null,
      "outputs": [
        {
          "output_type": "stream",
          "name": "stdout",
          "text": [
            "Mounted at /content/drive\n"
          ]
        }
      ]
    },
    {
      "cell_type": "code",
      "source": [
        "# CLONE THE DATA FROM GITHUB\n",
        "!git clone https://github.com/Digital-Umuganda/common_voice_dataset_rw.git\n"
      ],
      "metadata": {
        "colab": {
          "base_uri": "https://localhost:8080/"
        },
        "id": "Q8lyv0lqxDx7",
        "outputId": "0545dfd0-2c10-47dc-eb6a-54ed69b38f30"
      },
      "execution_count": null,
      "outputs": [
        {
          "output_type": "stream",
          "name": "stdout",
          "text": [
            "fatal: destination path 'common_voice_dataset_rw' already exists and is not an empty directory.\n"
          ]
        }
      ]
    },
    {
      "cell_type": "code",
      "source": [
        "with open(\"/content/common_voice_dataset_rw/partner-10.rw.txt\", \"r\") as f:\n",
        "  data = f.readlines()\n",
        "  print(data[0:3])"
      ],
      "metadata": {
        "colab": {
          "base_uri": "https://localhost:8080/"
        },
        "id": "xpKd0CIAx6yp",
        "outputId": "14ec1a68-27c1-4700-f776-ad0ba15091a3"
      },
      "execution_count": null,
      "outputs": [
        {
          "output_type": "stream",
          "name": "stdout",
          "text": [
            "['Yamweretse ishusho yishuri ryisumbuye.\\n', 'Uyu ni umurimo ugomba gukorwa n’ubwoko bwayo\\n', 'Ijoro ryari ricuze umwijima, ariko Zuba iyo gukiranuka yarabagiranaga kuri bo.\\n']\n"
          ]
        }
      ]
    },
    {
      "cell_type": "code",
      "source": [
        "import os\n",
        "p = \"/content/my_drive\"\n",
        "if not os.path.exists(p):\n",
        "  os.mkdir(p)"
      ],
      "metadata": {
        "colab": {
          "base_uri": "https://localhost:8080/"
        },
        "id": "O0GGHTZI7QcW",
        "outputId": "070b8de2-cfc8-4f52-e8fc-5399c578895d"
      },
      "execution_count": null,
      "outputs": [
        {
          "output_type": "execute_result",
          "data": {
            "text/plain": [
              "False"
            ]
          },
          "metadata": {},
          "execution_count": 6
        }
      ]
    },
    {
      "cell_type": "code",
      "source": [
        "!git clone https://github.com/coldsober-irene/NLP-fellowship.git\n"
      ],
      "metadata": {
        "colab": {
          "base_uri": "https://localhost:8080/"
        },
        "id": "qJvITfVcovHS",
        "outputId": "0be06b3f-f3cf-4b97-c374-946ac14dc816"
      },
      "execution_count": null,
      "outputs": [
        {
          "output_type": "stream",
          "name": "stdout",
          "text": [
            "Cloning into 'NLP-fellowship'...\n",
            "remote: Enumerating objects: 15, done.\u001b[K\n",
            "remote: Counting objects: 100% (15/15), done.\u001b[K\n",
            "remote: Compressing objects: 100% (13/13), done.\u001b[K\n",
            "remote: Total 15 (delta 4), reused 0 (delta 0), pack-reused 0\u001b[K\n",
            "Unpacking objects: 100% (15/15), done.\n"
          ]
        }
      ]
    },
    {
      "cell_type": "code",
      "source": [
        "import requests\n",
        "import json\n",
        "import numpy as np\n",
        "# TODO: Get products from https://dummyjson.com\n",
        "\n",
        "# Enter code here #\n",
        "api = \"https://dummyjson.com/products\"\n",
        "data = requests.get(api).json()\n",
        "\n",
        "all_products = data['products']\n",
        "#  get unique category and its related brands\n",
        "unique_categories = []\n",
        "for product in all_products:\n",
        "  unique_categories.append(product['category'])\n",
        "unique_categories = list(set(unique_categories))\n",
        "\n",
        "# ready categories to accept brands\n",
        "cats = {}\n",
        "# category and its corresponding brands\n",
        "for cat in unique_categories:\n",
        "  cats.setdefault(cat, [])\n",
        "\n",
        "# get brands in a give category\n",
        "for cat in unique_categories:\n",
        "  for prod in all_products:\n",
        "    if prod['category'] == cat:\n",
        "      cats[cat].append({\"brand\":prod[\"brand\"],\"title\":prod['title'], \"price\":prod['price']})\n",
        "cats\n",
        "\n",
        "# update data\n",
        "updateData = {}\n",
        "\n",
        "for cat in unique_categories:\n",
        "  cat_info = cats[cat]\n",
        "  brands = []\n",
        "  prices = 0\n",
        "  count = 0\n",
        "  items = []\n",
        "  for info in cat_info:\n",
        "    brands.append(info['brand'])\n",
        "    items.append(info['title'])\n",
        "    prices += info['price']\n",
        "    count += 1\n",
        "  # update the data\n",
        "  av_price = round((prices / count),1)\n",
        "  updateData.setdefault(cat, {\"brands\":brands, \"items\":items,\"average price\": prices})\n",
        "\n",
        "brands_items = {}\n",
        "for brand in list(set(brands)):\n",
        "  brands_items.setdefault(brand, [[],[]])\n",
        "  for product in all_products:\n",
        "    if product['brand'] == brand:\n",
        "      brands_items[brand][0].append(product['title']) \n",
        "      brands_items[brand][1].append(product['price'])\n",
        "  # get average price\n",
        "  prices = brands_items[brand][1] \n",
        "  price_len = len(prices)\n",
        "  tot = 0\n",
        "  for price in prices:\n",
        "    tot += price\n",
        "  # update average price\n",
        "  av = round((tot / price_len), 1)\n",
        "  brands_items[brand][0].append(av)\n",
        "  #del brands_items[brand][1]\n",
        "\n",
        "# print(set(brands))\n",
        "brand_items_keys = list(brands_items.keys())\n",
        "for key in brand_items_keys:\n",
        "  del brands_items[key][1]\n",
        "  rest_data = brands_items[key][0]\n",
        "  brands_items[key] = rest_data\n",
        "print(brands_items)\n",
        "\n",
        "# show update data\n",
        "# print(updateData)\n",
        "\n",
        "# create new json file\n",
        "with open(\"newJson.json\", \"w\") as js:\n",
        "  json.dump(updateData, js)"
      ],
      "metadata": {
        "colab": {
          "base_uri": "https://localhost:8080/"
        },
        "id": "pWoyinwVpMad",
        "outputId": "3c078608-0e19-4449-bea2-3a10577cb7bc"
      },
      "execution_count": 89,
      "outputs": [
        {
          "output_type": "stream",
          "name": "stdout",
          "text": [
            "{'Huawei': ['Huawei P30', 499.0], 'Apple': ['iPhone 9', 'iPhone X', 724.0], 'OPPO': ['OPPOF19', 280.0], 'Samsung': ['Samsung Universe 9', 'Samsung Galaxy Book', 1374.0]}\n"
          ]
        }
      ]
    },
    {
      "cell_type": "code",
      "source": [
        "import json \n",
        "import requests\n",
        "import os\n",
        "import csv\n",
        "\n",
        "def jsonExtracter(filePath = \"\", link = \"\", outputFormat = \"csv\"):\n",
        "  decision = None\n",
        "  data = None\n",
        "  if link and not filePath:\n",
        "    data = requests.get(link).text\n",
        "    # print(\"DATA: \", data)\n",
        "  elif filePath and not link:\n",
        "    with open(filePath, \"r\") as file:\n",
        "      data = file.load(file)\n",
        "      print(data)\n",
        "  elif link and filePath:\n",
        "    print(\"please enter 1 for link preference or 2 for filePath\")\n",
        "    decision = int(input(\"decision: \"))\n",
        "  else:\n",
        "    print(\"please make sure you have either selected the json file or you passed an API instead\")\n",
        "  # return data\n",
        "\n",
        "  dict_data = json.loads(data)\n",
        "  # GET KEYS\n",
        "  ALL_DATA = dict_data['MRData']\n",
        "  print(ALL_DATA)\n",
        "  all_keys = dict_data['MRData'].keys()\n",
        "  only_keys = list(all_keys)\n",
        "\n",
        "  # ALL RACES\n",
        "  all_races = ALL_DATA['RaceTable']['Races']\n",
        "  all_seasons = ALL_DATA['RaceTable']['season']\n",
        "  # print(all_seasons)\n",
        "\n",
        "  all_results = []\n",
        "  #\n",
        "  for race in all_races:\n",
        "    result = race['Results']\n",
        "    print(result[0][\"Driver\"])\n",
        "    # all_results.append({\"seaon\": ALL_DATA['RaceTable'][\"season\"], \"result\": result})\n",
        "    all_results.append([result[0][\"Driver\"][\"givenName\"], result[0][\"Driver\"][\"familyName\"],\n",
        "                        result[0][\"Driver\"][\"nationality\"],\n",
        "                        ALL_DATA['RaceTable'][\"season\"],  result])\n",
        "  \n",
        "  # WRITE TO CSV FILE\n",
        "  fileName = \"drivers_results.csv\"\n",
        "  with open(fileName, \"w\") as f:\n",
        "    Wr = csv.writer(f)\n",
        "    for row in all_results:\n",
        "      Wr.writerow(row)\n",
        "  \n",
        "  def baseOnDecision():\n",
        "    data = None\n",
        "    if decision == 1:\n",
        "      data = requests.get(link).text\n",
        "      \n",
        "    elif decision == 2:\n",
        "      file_opened = open(filePath)\n",
        "      data = json.load(file_opened)\n",
        "    else:\n",
        "      pass\n",
        "    return data\n",
        "  \n",
        "  def releaseOutput():\n",
        "    data = baseOnDecision()\n",
        "    if data:\n",
        "      if outputFormat == \"csv\":\n",
        "        pass\n",
        "      elif outputFormat == \"text\":\n",
        "        pass\n",
        "    # print(data)\n",
        "# learn func\n",
        "drivers = ['https://ergast.com/api/f1/2018/drivers/Ericsson/results.json', \n",
        "            \"http://ergast.com/api/f1/2018/drivers/hamilton/results.json\", \n",
        "            'https://ergast.com/api/f1/2018/drivers/Gasly/results.json'\n",
        "          ]\n",
        "\n",
        "for driver in drivers:\n",
        "  jsonExtracter(link = driver)\n",
        "\n"
      ],
      "metadata": {
        "id": "KDMsIfhsp2tq"
      },
      "execution_count": null,
      "outputs": []
    }
  ],
  "metadata": {
    "colab": {
      "provenance": [],
      "collapsed_sections": [],
      "mount_file_id": "1yCtMvnz09qXITvVziKX_ON0v-3j4wOWn",
      "authorship_tag": "ABX9TyO53PyST4actwT/yteos2hS",
      "include_colab_link": true
    },
    "kernelspec": {
      "display_name": "Python 3",
      "name": "python3"
    },
    "language_info": {
      "name": "python"
    },
    "accelerator": "GPU"
  },
  "nbformat": 4,
  "nbformat_minor": 0
}
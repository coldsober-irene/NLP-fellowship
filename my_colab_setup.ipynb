{
  "cells": [
    {
      "cell_type": "markdown",
      "metadata": {
        "id": "view-in-github",
        "colab_type": "text"
      },
      "source": [
        "<a href=\"https://colab.research.google.com/github/coldsober-irene/NLP-fellowship/blob/main/my_colab_setup.ipynb\" target=\"_parent\"><img src=\"https://colab.research.google.com/assets/colab-badge.svg\" alt=\"Open In Colab\"/></a>"
      ]
    },
    {
      "cell_type": "code",
      "execution_count": null,
      "metadata": {
        "colab": {
          "background_save": true
        },
        "id": "LbNR_By8V3jP"
      },
      "outputs": [],
      "source": [
        "import json \n",
        "import request\n",
        "\n",
        "def extractor(filePath = \"\", link = \"\", outputFormat = \"\"):\n",
        "  decision = None\n",
        "  if link and not filePath:\n",
        "    pass\n",
        "  elif filePath and not link:\n",
        "    pass\n",
        "  elif link and filePath:\n",
        "    print(\"please enter 1 for link preference or 2 for filePath\")\n",
        "    decision = int(input(\"decision: \"))\n",
        "  else:\n",
        "    print(\"please make sure you have either selected the json file or you passed an API instead\")\n",
        "  \n",
        "  def baseOnDecision():\n",
        "    if decision == 1:\n",
        "      onlineData = request.get(link)\n",
        "    \n",
        "\n",
        "  "
      ]
    }
  ],
  "metadata": {
    "colab": {
      "provenance": [],
      "authorship_tag": "ABX9TyPYavERuXBzecz3boYJjX/q",
      "include_colab_link": true
    },
    "kernelspec": {
      "display_name": "Python 3",
      "name": "python3"
    },
    "language_info": {
      "name": "python"
    },
    "accelerator": "GPU"
  },
  "nbformat": 4,
  "nbformat_minor": 0
}
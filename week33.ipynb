{
  "nbformat": 4,
  "nbformat_minor": 0,
  "metadata": {
    "colab": {
      "provenance": [],
      "authorship_tag": "ABX9TyNyh3VS6QG5FAFO1iuFYNTj",
      "include_colab_link": true
    },
    "kernelspec": {
      "name": "python3",
      "display_name": "Python 3"
    },
    "language_info": {
      "name": "python"
    }
  },
  "cells": [
    {
      "cell_type": "markdown",
      "metadata": {
        "id": "view-in-github",
        "colab_type": "text"
      },
      "source": [
        "<a href=\"https://colab.research.google.com/github/coldsober-irene/NLP-fellowship/blob/main/week33.ipynb\" target=\"_parent\"><img src=\"https://colab.research.google.com/assets/colab-badge.svg\" alt=\"Open In Colab\"/></a>"
      ]
    },
    {
      "cell_type": "code",
      "execution_count": 6,
      "metadata": {
        "id": "8O1x26z9_78_"
      },
      "outputs": [],
      "source": [
        "from math import log\n",
        "import pandas as pd"
      ]
    },
    {
      "cell_type": "code",
      "source": [
        "data = ['this is a list of sentences', 'second sentence in list of sentences', 'a word for complexity']\n",
        "tokens = [token for sentence in data for token in sentence.split()]\n",
        "word_index = {}\n",
        "for index, word in enumerate(tokens):\n",
        "  word_index[word] = index\n",
        "\n",
        "word_freq = {}\n",
        "for token in tokens:\n",
        "  word_freq[token] = word_freq.get(token,0) + 1\n",
        "\n",
        "word_tf = {}\n",
        "for word in word_freq.keys():\n",
        "  word_tf[word] = log((len(data)+1)/(1+word_freq[word]))"
      ],
      "metadata": {
        "id": "e1HgorFoAFci"
      },
      "execution_count": 7,
      "outputs": []
    },
    {
      "cell_type": "code",
      "source": [
        "word_inSent_tf = {}\n",
        "for  i in range(len(data)):\n",
        "  word_inSent_tf[f\"sentence {i}\"] = {}\n",
        "\n",
        "tokens = [[token for token in sent.split()] for sent in data]"
      ],
      "metadata": {
        "id": "-WCO7gshBXjQ"
      },
      "execution_count": 10,
      "outputs": []
    },
    {
      "cell_type": "code",
      "source": [
        "for i in range(len(tokens)):\n",
        "  sample = set(tokens[i])\n",
        "  for token in sample:\n",
        "    word_inSent_tf[list(word_inSent_tf.keys())[i]][token] = word_inSent_tf[list(word_inSent_tf.keys())[i]].get(token, 0) + 1"
      ],
      "metadata": {
        "id": "Uw_tACOzHfj8"
      },
      "execution_count": 12,
      "outputs": []
    },
    {
      "cell_type": "code",
      "source": [
        "word_inSent_tf"
      ],
      "metadata": {
        "colab": {
          "base_uri": "https://localhost:8080/"
        },
        "id": "sKK01R0BIuhn",
        "outputId": "bc9af429-03b3-42f3-c2f6-2d8b5fc78412"
      },
      "execution_count": 14,
      "outputs": [
        {
          "output_type": "execute_result",
          "data": {
            "text/plain": [
              "{'sentence 0': {'of': 1,\n",
              "  'is': 1,\n",
              "  'list': 1,\n",
              "  'this': 1,\n",
              "  'a': 1,\n",
              "  'sentences': 1},\n",
              " 'sentence 1': {'of': 1,\n",
              "  'list': 1,\n",
              "  'in': 1,\n",
              "  'sentence': 1,\n",
              "  'sentences': 1,\n",
              "  'second': 1},\n",
              " 'sentence 2': {'for': 1, 'complexity': 1, 'word': 1, 'a': 1}}"
            ]
          },
          "metadata": {},
          "execution_count": 14
        }
      ]
    },
    {
      "cell_type": "markdown",
      "source": [
        "**yesterday assignment**:\n",
        "create a class and compare its output to the output from ski-learn when you feed both of them the same input"
      ],
      "metadata": {
        "id": "RIwMc4tnJwqG"
      }
    },
    {
      "cell_type": "code",
      "source": [
        "final_tf = {}\n",
        "count = 0\n",
        "for key in list(word_inSent_tf.keys()):\n",
        "  for token in tokens[count]:\n",
        "    final_tf[token] = word_inSent_tf[key][token] / len(tokens[count])\n",
        "  count += 1\n"
      ],
      "metadata": {
        "id": "1fOEpsmuI_PN"
      },
      "execution_count": 21,
      "outputs": []
    },
    {
      "cell_type": "code",
      "source": [
        "final_tf"
      ],
      "metadata": {
        "id": "gOyYD5FkL0ii",
        "outputId": "a7d02888-03aa-448d-d3d9-41ec63953f35",
        "colab": {
          "base_uri": "https://localhost:8080/"
        }
      },
      "execution_count": 22,
      "outputs": [
        {
          "output_type": "execute_result",
          "data": {
            "text/plain": [
              "{'this': 0.16666666666666666,\n",
              " 'is': 0.16666666666666666,\n",
              " 'a': 0.25,\n",
              " 'list': 0.16666666666666666,\n",
              " 'of': 0.16666666666666666,\n",
              " 'sentences': 0.16666666666666666,\n",
              " 'second': 0.16666666666666666,\n",
              " 'sentence': 0.16666666666666666,\n",
              " 'in': 0.16666666666666666,\n",
              " 'word': 0.25,\n",
              " 'for': 0.25,\n",
              " 'complexity': 0.25}"
            ]
          },
          "metadata": {},
          "execution_count": 22
        }
      ]
    }
  ]
}
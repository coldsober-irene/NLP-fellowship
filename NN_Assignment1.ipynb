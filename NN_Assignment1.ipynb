{
  "nbformat": 4,
  "nbformat_minor": 0,
  "metadata": {
    "colab": {
      "provenance": [],
      "include_colab_link": true
    },
    "kernelspec": {
      "name": "python3",
      "display_name": "Python 3"
    },
    "language_info": {
      "name": "python"
    },
    "accelerator": "GPU",
    "gpuClass": "standard"
  },
  "cells": [
    {
      "cell_type": "markdown",
      "metadata": {
        "id": "view-in-github",
        "colab_type": "text"
      },
      "source": [
        "<a href=\"https://colab.research.google.com/github/coldsober-irene/NLP-fellowship/blob/main/NN_Assignment1.ipynb\" target=\"_parent\"><img src=\"https://colab.research.google.com/assets/colab-badge.svg\" alt=\"Open In Colab\"/></a>"
      ]
    },
    {
      "cell_type": "code",
      "execution_count": 13,
      "metadata": {
        "colab": {
          "base_uri": "https://localhost:8080/",
          "height": 224
        },
        "id": "mULIOo3z63iT",
        "outputId": "7676ab8c-c3b5-4ea9-f3b5-ac2ca52a06a1"
      },
      "outputs": [
        {
          "output_type": "stream",
          "name": "stdout",
          "text": [
            "Drive already mounted at /content/gdrive; to attempt to forcibly remount, call drive.mount(\"/content/gdrive\", force_remount=True).\n"
          ]
        },
        {
          "output_type": "execute_result",
          "data": {
            "text/plain": [
              "                                              review  sentiment   set\n",
              "0  I went and saw this movie last night after bei...          1  test\n",
              "1  Actor turned director Bill Paxton follows up h...          1  test\n",
              "2  As a recreational golfer with some knowledge o...          1  test\n",
              "3  I saw this film in a sneak preview, and it is ...          1  test\n",
              "4  Bill Paxton has taken the true story of the 19...          1  test"
            ],
            "text/html": [
              "\n",
              "  <div id=\"df-2ffae579-a5b6-47d0-ae9c-985b419ef017\">\n",
              "    <div class=\"colab-df-container\">\n",
              "      <div>\n",
              "<style scoped>\n",
              "    .dataframe tbody tr th:only-of-type {\n",
              "        vertical-align: middle;\n",
              "    }\n",
              "\n",
              "    .dataframe tbody tr th {\n",
              "        vertical-align: top;\n",
              "    }\n",
              "\n",
              "    .dataframe thead th {\n",
              "        text-align: right;\n",
              "    }\n",
              "</style>\n",
              "<table border=\"1\" class=\"dataframe\">\n",
              "  <thead>\n",
              "    <tr style=\"text-align: right;\">\n",
              "      <th></th>\n",
              "      <th>review</th>\n",
              "      <th>sentiment</th>\n",
              "      <th>set</th>\n",
              "    </tr>\n",
              "  </thead>\n",
              "  <tbody>\n",
              "    <tr>\n",
              "      <th>0</th>\n",
              "      <td>I went and saw this movie last night after bei...</td>\n",
              "      <td>1</td>\n",
              "      <td>test</td>\n",
              "    </tr>\n",
              "    <tr>\n",
              "      <th>1</th>\n",
              "      <td>Actor turned director Bill Paxton follows up h...</td>\n",
              "      <td>1</td>\n",
              "      <td>test</td>\n",
              "    </tr>\n",
              "    <tr>\n",
              "      <th>2</th>\n",
              "      <td>As a recreational golfer with some knowledge o...</td>\n",
              "      <td>1</td>\n",
              "      <td>test</td>\n",
              "    </tr>\n",
              "    <tr>\n",
              "      <th>3</th>\n",
              "      <td>I saw this film in a sneak preview, and it is ...</td>\n",
              "      <td>1</td>\n",
              "      <td>test</td>\n",
              "    </tr>\n",
              "    <tr>\n",
              "      <th>4</th>\n",
              "      <td>Bill Paxton has taken the true story of the 19...</td>\n",
              "      <td>1</td>\n",
              "      <td>test</td>\n",
              "    </tr>\n",
              "  </tbody>\n",
              "</table>\n",
              "</div>\n",
              "      <button class=\"colab-df-convert\" onclick=\"convertToInteractive('df-2ffae579-a5b6-47d0-ae9c-985b419ef017')\"\n",
              "              title=\"Convert this dataframe to an interactive table.\"\n",
              "              style=\"display:none;\">\n",
              "        \n",
              "  <svg xmlns=\"http://www.w3.org/2000/svg\" height=\"24px\"viewBox=\"0 0 24 24\"\n",
              "       width=\"24px\">\n",
              "    <path d=\"M0 0h24v24H0V0z\" fill=\"none\"/>\n",
              "    <path d=\"M18.56 5.44l.94 2.06.94-2.06 2.06-.94-2.06-.94-.94-2.06-.94 2.06-2.06.94zm-11 1L8.5 8.5l.94-2.06 2.06-.94-2.06-.94L8.5 2.5l-.94 2.06-2.06.94zm10 10l.94 2.06.94-2.06 2.06-.94-2.06-.94-.94-2.06-.94 2.06-2.06.94z\"/><path d=\"M17.41 7.96l-1.37-1.37c-.4-.4-.92-.59-1.43-.59-.52 0-1.04.2-1.43.59L10.3 9.45l-7.72 7.72c-.78.78-.78 2.05 0 2.83L4 21.41c.39.39.9.59 1.41.59.51 0 1.02-.2 1.41-.59l7.78-7.78 2.81-2.81c.8-.78.8-2.07 0-2.86zM5.41 20L4 18.59l7.72-7.72 1.47 1.35L5.41 20z\"/>\n",
              "  </svg>\n",
              "      </button>\n",
              "      \n",
              "  <style>\n",
              "    .colab-df-container {\n",
              "      display:flex;\n",
              "      flex-wrap:wrap;\n",
              "      gap: 12px;\n",
              "    }\n",
              "\n",
              "    .colab-df-convert {\n",
              "      background-color: #E8F0FE;\n",
              "      border: none;\n",
              "      border-radius: 50%;\n",
              "      cursor: pointer;\n",
              "      display: none;\n",
              "      fill: #1967D2;\n",
              "      height: 32px;\n",
              "      padding: 0 0 0 0;\n",
              "      width: 32px;\n",
              "    }\n",
              "\n",
              "    .colab-df-convert:hover {\n",
              "      background-color: #E2EBFA;\n",
              "      box-shadow: 0px 1px 2px rgba(60, 64, 67, 0.3), 0px 1px 3px 1px rgba(60, 64, 67, 0.15);\n",
              "      fill: #174EA6;\n",
              "    }\n",
              "\n",
              "    [theme=dark] .colab-df-convert {\n",
              "      background-color: #3B4455;\n",
              "      fill: #D2E3FC;\n",
              "    }\n",
              "\n",
              "    [theme=dark] .colab-df-convert:hover {\n",
              "      background-color: #434B5C;\n",
              "      box-shadow: 0px 1px 3px 1px rgba(0, 0, 0, 0.15);\n",
              "      filter: drop-shadow(0px 1px 2px rgba(0, 0, 0, 0.3));\n",
              "      fill: #FFFFFF;\n",
              "    }\n",
              "  </style>\n",
              "\n",
              "      <script>\n",
              "        const buttonEl =\n",
              "          document.querySelector('#df-2ffae579-a5b6-47d0-ae9c-985b419ef017 button.colab-df-convert');\n",
              "        buttonEl.style.display =\n",
              "          google.colab.kernel.accessAllowed ? 'block' : 'none';\n",
              "\n",
              "        async function convertToInteractive(key) {\n",
              "          const element = document.querySelector('#df-2ffae579-a5b6-47d0-ae9c-985b419ef017');\n",
              "          const dataTable =\n",
              "            await google.colab.kernel.invokeFunction('convertToInteractive',\n",
              "                                                     [key], {});\n",
              "          if (!dataTable) return;\n",
              "\n",
              "          const docLinkHtml = 'Like what you see? Visit the ' +\n",
              "            '<a target=\"_blank\" href=https://colab.research.google.com/notebooks/data_table.ipynb>data table notebook</a>'\n",
              "            + ' to learn more about interactive tables.';\n",
              "          element.innerHTML = '';\n",
              "          dataTable['output_type'] = 'display_data';\n",
              "          await google.colab.output.renderOutput(dataTable, element);\n",
              "          const docLink = document.createElement('div');\n",
              "          docLink.innerHTML = docLinkHtml;\n",
              "          element.appendChild(docLink);\n",
              "        }\n",
              "      </script>\n",
              "    </div>\n",
              "  </div>\n",
              "  "
            ]
          },
          "metadata": {},
          "execution_count": 13
        }
      ],
      "source": [
        "import os\n",
        "import pandas as pd\n",
        "from google.colab import drive\n",
        "drive.mount('/content/gdrive')\n",
        "os.chdir(\"/content/gdrive/MyDrive/NLP fellowship/files\")\n",
        "movie_dataset = pd.read_csv('50k_imdb_movie_reviews.csv')\n",
        "movie_dataset.head()"
      ]
    },
    {
      "cell_type": "code",
      "source": [
        "!pip install torch==1.8.0 torchtext==0.9.0 #compatibility"
      ],
      "metadata": {
        "id": "anzIu32X7wdz"
      },
      "execution_count": null,
      "outputs": []
    },
    {
      "cell_type": "code",
      "source": [
        "import pandas as pd\n",
        "import re\n",
        "import torch\n",
        "from torchtext.legacy import data\n",
        "from torchtext.legacy.data import Dataset, Example\n",
        "from torchtext.legacy.data import BucketIterator\n",
        "import torch.nn as nn\n",
        "import torch.nn.functional as F"
      ],
      "metadata": {
        "id": "9Ac_Z-cF8exZ"
      },
      "execution_count": 15,
      "outputs": []
    },
    {
      "cell_type": "code",
      "source": [
        "movie_dataset['review'].describe()"
      ],
      "metadata": {
        "colab": {
          "base_uri": "https://localhost:8080/"
        },
        "id": "mMikfP398kgt",
        "outputId": "c37aa3d6-70cf-4832-d08e-574bfba314e2"
      },
      "execution_count": 16,
      "outputs": [
        {
          "output_type": "execute_result",
          "data": {
            "text/plain": [
              "count                                                 50000\n",
              "unique                                                49582\n",
              "top       Loved today's show!!! It was a variety and not...\n",
              "freq                                                      5\n",
              "Name: review, dtype: object"
            ]
          },
          "metadata": {},
          "execution_count": 16
        }
      ]
    },
    {
      "cell_type": "code",
      "source": [
        "movie_dataset = movie_dataset.drop_duplicates(subset=['review'])"
      ],
      "metadata": {
        "id": "0hZFlPHA-oTG"
      },
      "execution_count": 17,
      "outputs": []
    },
    {
      "cell_type": "code",
      "source": [
        "movie_dataset = movie_dataset.drop_duplicates(subset=['review'])\n",
        "train_dataset = movie_dataset[(movie_dataset['set'] == 'train')][['review','sentiment']]\n",
        "test_dataset = movie_dataset[(movie_dataset['set'] == 'test')][['review','sentiment']]"
      ],
      "metadata": {
        "id": "vp3Fa7sQ9Et4"
      },
      "execution_count": 18,
      "outputs": []
    },
    {
      "cell_type": "code",
      "source": [
        "# full_dataset\n",
        "def preprocessing(texts):\n",
        "  cleaned_text = []\n",
        "  for text in texts:\n",
        "    text = text.lower()\n",
        "    emoji_pattern = re.compile(\"[\"\n",
        "                                u\"\\U0001F600-\\U0001F64F\"  # emoticons\n",
        "                                u\"\\U0001F300-\\U0001F5FF\"  # symbols & pictographs\n",
        "                                u\"\\U0001F680-\\U0001F6FF\"  # transport & map symbols\n",
        "                                u\"\\U0001F1E0-\\U0001F1FF\"  # flags (iOS)\n",
        "                                u\"\\U00002702-\\U000027B0\"\n",
        "                                u\"\\U000024C2-\\U0001F251\"\n",
        "                                \"]+\", flags=re.UNICODE)\n",
        "    url_pattern = re.compile(r'https?://\\S+|www\\.\\S+')\n",
        "    html_pattern = re.compile('<.*?>')\n",
        "    text = emoji_pattern.sub(r'', text)\n",
        "    text = url_pattern.sub(r'', text)\n",
        "    text = html_pattern.sub(r'', text)\n",
        "    text = re.sub(r\"[^\\w\\d'\\s]+\", ' ', text)\n",
        "    cleaned_text.append(text)\n",
        "\n",
        "  return cleaned_text"
      ],
      "metadata": {
        "id": "VJyyQjCK-QbS"
      },
      "execution_count": 19,
      "outputs": []
    },
    {
      "cell_type": "code",
      "source": [
        "SEED = 42\n",
        "torch.manual_seed(SEED)\n",
        "torch.backends.cudnn.deterministic = True # Check this\n",
        "max_document_length = 300 #hyperparameter\n",
        "\n",
        "TEXT = data.Field(lower=True, include_lengths=True,  tokenize='spacy',preprocessing=preprocessing,batch_first=True,  fix_length=max_document_length)\n",
        "LABEL = data.Field(sequential=False, use_vocab=False)\n",
        "\n",
        "class DataFrameDataset(Dataset):\n",
        "    def __init__(self, df: pd.DataFrame, fields: list):\n",
        "        super(DataFrameDataset, self).__init__(\n",
        "            [\n",
        "                Example.fromlist(list(r), fields) \n",
        "                for i, r in df.iterrows()\n",
        "            ], \n",
        "            fields\n",
        "        )"
      ],
      "metadata": {
        "id": "Lpb3R3bw-8JI"
      },
      "execution_count": 66,
      "outputs": []
    },
    {
      "cell_type": "code",
      "source": [
        "\n",
        "torch_valid_dataset, torch_test_dataset = DataFrameDataset(\n",
        "    df=test_dataset, \n",
        "    fields=(\n",
        "        ('review', TEXT),\n",
        "        ('sentiment', LABEL)\n",
        "    )\n",
        ").split() \n",
        "\n",
        "torch_train_dataset = DataFrameDataset(\n",
        "    df=train_dataset, \n",
        "    fields=(\n",
        "        ('review', TEXT),\n",
        "        ('sentiment', LABEL)\n",
        "    )\n",
        ")"
      ],
      "metadata": {
        "id": "rBTbU3GE_vZo"
      },
      "execution_count": 67,
      "outputs": []
    },
    {
      "cell_type": "code",
      "source": [
        "\n",
        "max_size = 30000 #hyperparameter\n",
        "TEXT.build_vocab(torch_train_dataset, max_size=max_size,vectors='fasttext.simple.300d')\n",
        "vocab_size = len(TEXT.vocab)\n",
        "\n",
        "BATCH_SIZE = 64 #hyperparameter\n",
        "train_iterator, valid_iterator, test_iterator = data.BucketIterator.splits(\n",
        "    (torch_train_dataset, torch_valid_dataset, torch_test_dataset), \n",
        "    batch_size = BATCH_SIZE ,\n",
        "    sort_key=lambda x: len(x.review),\n",
        "    sort_within_batch=True)"
      ],
      "metadata": {
        "id": "HeJDuZNf_3LW"
      },
      "execution_count": 68,
      "outputs": []
    },
    {
      "cell_type": "markdown",
      "source": [
        "**accuracy function to be accessed by both models**"
      ],
      "metadata": {
        "id": "fODaiwYlrkk_"
      }
    },
    {
      "cell_type": "markdown",
      "source": [
        "GLOBAL HYPERPARAMETERS"
      ],
      "metadata": {
        "id": "rUb_KYVPCSeB"
      }
    },
    {
      "cell_type": "code",
      "source": [
        "lr = 1e-3\n",
        "batch_size = 64\n",
        "dropout_keep_prob = 0.3\n",
        "embedding_size = 300\n",
        "max_document_length = 300 # each sentence has until 100 words\n",
        "vocab_size = len(TEXT.vocab)\n",
        "dev_size = 0.8 # split percentage to train\\validation data\n",
        "max_size = 30000 # maximum vocabulary size\n",
        "seed = 30\n",
        "num_classes = 2\n",
        "\n",
        "num_epochs = 15\n",
        "hidden_size = 256\n",
        "hidden_size1 = 300\n",
        "hidden_size2 = 128\n",
        "hidden_size3 = 64"
      ],
      "metadata": {
        "id": "41SCgssgCXL1"
      },
      "execution_count": 69,
      "outputs": []
    },
    {
      "cell_type": "code",
      "source": [
        "def accuracy(probs, target):\n",
        "  winners = probs.argmax(dim=1)\n",
        "  corrects = (winners == target)\n",
        "  accuracy = corrects.sum().float() / float(target.size(0))\n",
        "  return accuracy"
      ],
      "metadata": {
        "id": "lAqq4Nv0AHA9"
      },
      "execution_count": 70,
      "outputs": []
    },
    {
      "cell_type": "markdown",
      "source": [
        "**LR neural networks**"
      ],
      "metadata": {
        "id": "K-H8WgeZsURp"
      }
    },
    {
      "cell_type": "code",
      "source": [
        "# full_dataset\n",
        "class LR(nn.Module):\n",
        "    def __init__(self, input_size, hidden_size,hidden_size2,hidden_size3, num_classes):\n",
        "        super(LR, self).__init__()\n",
        "        self.fc1 = nn.Linear(input_size, hidden_size) # \n",
        "        self.relu = nn.ReLU()\n",
        "        self.fc2 = nn.Linear(hidden_size, hidden_size2)\n",
        "        self.fc3 = nn.Linear(hidden_size2, hidden_size3) \n",
        "        self.fc4 = nn.Linear(hidden_size3, num_classes)\n",
        "\n",
        "    def forward(self, text):\n",
        "        text = text.float() # dense layer deals just with float type data\n",
        "        x = self.fc1(text) #(m x n) with (n x p)\n",
        "        x = self.relu(x)\n",
        "        x = self.relu(self.fc2(x))\n",
        "        x = self.relu(self.fc3(x))\n",
        "        \n",
        "        preds = self.fc4(x) # crossentropyloss handles the softmax\n",
        "        # preds = F.softmax(preds,1) # nn.softmax\n",
        "        return preds"
      ],
      "metadata": {
        "id": "b1Ymng6wAH7Y"
      },
      "execution_count": 71,
      "outputs": []
    },
    {
      "cell_type": "code",
      "source": [
        "to_train = True\n",
        "LRmodel = LR(max_document_length, hidden_size,hidden_size2,hidden_size3, num_classes)"
      ],
      "metadata": {
        "id": "LC1cJemqAHT-"
      },
      "execution_count": 72,
      "outputs": []
    },
    {
      "cell_type": "code",
      "source": [
        "LRbest_valid_loss = float('inf')\n",
        "LRoptimizer = torch.optim.Adam(LRmodel.parameters(), lr=lr)\n",
        "\n",
        "LRloss_func = nn.CrossEntropyLoss()\n",
        "\n",
        "for epoch in range(num_epochs):\n",
        "  LRtrain_epoch_loss = 0\n",
        "  LRtrain_epoch_acc = 0\n",
        "  for batch in train_iterator:\n",
        "      LRoptimizer.zero_grad()\n",
        "      # retrieve text and no. of words\n",
        "      text, text_lengths = batch.review\n",
        "\n",
        "      #feedforward\n",
        "      # model.to(device)\n",
        "      LRpredictions = LRmodel(text).squeeze(1)\n",
        "      \n",
        "      \n",
        "      loss = LRloss_func(LRpredictions, batch.sentiment)\n",
        "\n",
        "      acc = accuracy(LRpredictions, batch.sentiment)\n",
        "\n",
        "      # perform backpropagation\n",
        "      loss.backward()\n",
        "\n",
        "      LRoptimizer.step()\n",
        "\n",
        "      LRtrain_epoch_loss += loss.item()\n",
        "      LRtrain_epoch_acc += acc.item()\n",
        "\n",
        "  \n",
        "\n",
        "  LRvalid_epoch_loss = 0\n",
        "  LRvalid_epoch_acc = 0\n",
        "\n",
        "  LRmodel.eval()\n",
        "\n",
        "  with torch.no_grad():\n",
        "      for batch in valid_iterator:\n",
        "          text, text_lengths = batch.review\n",
        "\n",
        "          LRpredictions = LRmodel(text).squeeze(1)\n",
        "\n",
        "          loss = LRloss_func(LRpredictions, batch.sentiment)\n",
        "\n",
        "          acc = accuracy(LRpredictions, batch.sentiment)\n",
        "\n",
        "          LRvalid_epoch_loss += loss.item()\n",
        "          LRvalid_epoch_acc += acc.item()\n",
        "\n",
        "   \n",
        "\n",
        "  if LRvalid_epoch_loss < LRbest_valid_loss:\n",
        "            LRbest_valid_loss = LRvalid_epoch_loss\n",
        "            torch.save(LRmodel.state_dict(), 'LRsaved_weights'+'_LRlinear.pt')\n",
        "\n",
        "  print(f'\\tTrain Loss: {LRtrain_epoch_loss / len(train_iterator):.3f} | Train Acc: {LRtrain_epoch_acc  / len(train_iterator)* 100:.2f}%')\n",
        "  print(f'\\t Val. Loss: {LRvalid_epoch_loss / len(valid_iterator):.3f} |  Val. Acc: {LRvalid_epoch_acc / len(valid_iterator) * 100:.2f}%')"
      ],
      "metadata": {
        "colab": {
          "base_uri": "https://localhost:8080/"
        },
        "id": "7bduRH2qAGuL",
        "outputId": "ae16d5e4-ef46-47b7-e680-bb6c1e96bb15"
      },
      "execution_count": 73,
      "outputs": [
        {
          "output_type": "stream",
          "name": "stdout",
          "text": [
            "\tTrain Loss: 2.182 | Train Acc: 50.32%\n",
            "\t Val. Loss: 0.697 |  Val. Acc: 49.92%\n",
            "\tTrain Loss: 0.693 | Train Acc: 50.74%\n",
            "\t Val. Loss: 0.696 |  Val. Acc: 49.88%\n",
            "\tTrain Loss: 0.691 | Train Acc: 51.34%\n",
            "\t Val. Loss: 0.695 |  Val. Acc: 49.91%\n",
            "\tTrain Loss: 0.689 | Train Acc: 51.59%\n",
            "\t Val. Loss: 0.697 |  Val. Acc: 50.18%\n",
            "\tTrain Loss: 0.685 | Train Acc: 52.73%\n",
            "\t Val. Loss: 0.697 |  Val. Acc: 50.31%\n",
            "\tTrain Loss: 0.685 | Train Acc: 53.56%\n",
            "\t Val. Loss: 0.701 |  Val. Acc: 50.80%\n",
            "\tTrain Loss: 0.682 | Train Acc: 53.45%\n",
            "\t Val. Loss: 0.698 |  Val. Acc: 50.14%\n",
            "\tTrain Loss: 0.680 | Train Acc: 53.95%\n",
            "\t Val. Loss: 0.715 |  Val. Acc: 50.45%\n",
            "\tTrain Loss: 0.678 | Train Acc: 54.87%\n",
            "\t Val. Loss: 0.708 |  Val. Acc: 50.64%\n",
            "\tTrain Loss: 0.679 | Train Acc: 54.37%\n",
            "\t Val. Loss: 0.710 |  Val. Acc: 50.46%\n",
            "\tTrain Loss: 0.674 | Train Acc: 55.19%\n",
            "\t Val. Loss: 0.700 |  Val. Acc: 50.05%\n",
            "\tTrain Loss: 0.680 | Train Acc: 53.49%\n",
            "\t Val. Loss: 0.698 |  Val. Acc: 50.43%\n",
            "\tTrain Loss: 0.672 | Train Acc: 56.35%\n",
            "\t Val. Loss: 0.789 |  Val. Acc: 50.62%\n",
            "\tTrain Loss: 0.670 | Train Acc: 56.24%\n",
            "\t Val. Loss: 0.709 |  Val. Acc: 50.28%\n",
            "\tTrain Loss: 0.674 | Train Acc: 54.98%\n",
            "\t Val. Loss: 0.703 |  Val. Acc: 50.17%\n"
          ]
        }
      ]
    },
    {
      "cell_type": "markdown",
      "source": [
        "%%%%%%%%%%%%%%%%%%%%%%% multilayer percetron neural networks %%%%%%%%%%%%%%%%%%%%%%% "
      ],
      "metadata": {
        "id": "xLQk8XDOr-sC"
      }
    },
    {
      "cell_type": "code",
      "source": [
        "\n",
        "class MLP(nn.Module):\n",
        "    def __init__(self, vocab_size, embed_size, hidden_size2, hidden_size3, hidden_size4, output_dim, dropout, max_document_length):\n",
        "        super().__init__()\n",
        "        # embedding and convolution layers\n",
        "        self.embedding = nn.Embedding(vocab_size, embed_size)\n",
        "        self.relu = nn.ReLU()\n",
        "        self.dropout = nn.Dropout(dropout)\n",
        "        self.fc1 = nn.Linear(embed_size*max_document_length, hidden_size2)  # dense layer\n",
        "        self.fc2 = nn.Linear(hidden_size2, hidden_size3)  # dense layer\n",
        "        self.fc3 = nn.Linear(hidden_size3, hidden_size4)  # dense layer\n",
        "        self.fc4 = nn.Linear(hidden_size4, output_dim)  # dense layer\n",
        "\n",
        "    def forward(self, text):\n",
        "         # text shape = (batch_size, num_sequences)\n",
        "        embedded = self.embedding(text)\n",
        "        # embedded = [batch size, sent_len, emb dim]\n",
        "        \n",
        "        x = embedded.view(embedded.shape[0], -1)  # x = Flatten()(x)\n",
        "        #embedded = embedded.unsqueeze(1) # fc gets 4 dimension\n",
        "        \n",
        "        x = self.relu(self.fc1(x))\n",
        "        x = self.dropout(x)\n",
        "        x = self.relu(self.fc2(x))\n",
        "        x = self.dropout(x)\n",
        "        x = self.relu(self.fc3(x))\n",
        "        x = self.dropout(x)\n",
        "        preds = self.fc4(x)\n",
        "        # preds = F.softmax(preds, 1)\n",
        "        return preds"
      ],
      "metadata": {
        "id": "4_ur0xeRAHq1"
      },
      "execution_count": 27,
      "outputs": []
    },
    {
      "cell_type": "code",
      "source": [
        "\n",
        "to_train = True\n",
        "# model = LR(max_document_length, hidden_size,hidden_size2,hidden_size3, num_classes)\n",
        "model = MLP(vocab_size, embedding_size, hidden_size1, hidden_size2, hidden_size3,  num_classes, dropout_keep_prob, max_document_length)"
      ],
      "metadata": {
        "id": "iQzSCDVyAHfT"
      },
      "execution_count": 28,
      "outputs": []
    },
    {
      "cell_type": "code",
      "source": [
        "best_valid_loss = float('inf')\n",
        "optimizer = torch.optim.Adam(model.parameters(), lr=lr)\n",
        "\n",
        "loss_func = nn.CrossEntropyLoss()\n",
        "\n",
        "for epoch in range(num_epochs):\n",
        "  train_epoch_loss = 0\n",
        "  train_epoch_acc = 0\n",
        "  for batch in train_iterator:\n",
        "      optimizer.zero_grad()\n",
        "      # retrieve text and no. of words\n",
        "      text, text_lengths = batch.review\n",
        "\n",
        "      #feedforward\n",
        "      # model.to(device)\n",
        "      predictions = model(text).squeeze(1)\n",
        "      \n",
        "      \n",
        "      loss = loss_func(predictions, batch.sentiment)\n",
        "\n",
        "      acc = accuracy(predictions, batch.sentiment)\n",
        "\n",
        "      # perform backpropagation\n",
        "      loss.backward()\n",
        "\n",
        "      optimizer.step()\n",
        "\n",
        "      train_epoch_loss += loss.item()\n",
        "      train_epoch_acc += acc.item()\n",
        "\n",
        "  \n",
        "\n",
        "  valid_epoch_loss = 0\n",
        "  valid_epoch_acc = 0\n",
        "\n",
        "  model.eval()\n",
        "\n",
        "  with torch.no_grad():\n",
        "      for batch in valid_iterator:\n",
        "          text, text_lengths = batch.review\n",
        "\n",
        "          predictions = model(text).squeeze(1)\n",
        "\n",
        "          loss = loss_func(predictions, batch.sentiment)\n",
        "\n",
        "          acc = accuracy(predictions, batch.sentiment)\n",
        "\n",
        "          valid_epoch_loss += loss.item()\n",
        "          valid_epoch_acc += acc.item()\n",
        "\n",
        "   \n",
        "\n",
        "  if valid_epoch_loss < best_valid_loss:\n",
        "            best_valid_loss = valid_epoch_loss\n",
        "            torch.save(model.state_dict(), 'saved_weights'+'_linear.pt')\n",
        "\n",
        "  print(f'\\tTrain Loss: {train_epoch_loss / len(train_iterator):.3f} | Train Acc: {train_epoch_acc  / len(train_iterator)* 100:.2f}%')\n",
        "  print(f'\\t Val. Loss: {valid_epoch_loss / len(valid_iterator):.3f} |  Val. Acc: {valid_epoch_acc / len(valid_iterator) * 100:.2f}%')"
      ],
      "metadata": {
        "colab": {
          "base_uri": "https://localhost:8080/"
        },
        "id": "Dxj9ya13AGXv",
        "outputId": "fb2f5c22-fa29-4dad-9f0f-87138e209c12"
      },
      "execution_count": 29,
      "outputs": [
        {
          "output_type": "stream",
          "name": "stdout",
          "text": [
            "\tTrain Loss: 0.760 | Train Acc: 50.83%\n",
            "\t Val. Loss: 0.693 |  Val. Acc: 50.30%\n",
            "\tTrain Loss: 0.661 | Train Acc: 57.53%\n",
            "\t Val. Loss: 0.690 |  Val. Acc: 57.55%\n",
            "\tTrain Loss: 0.516 | Train Acc: 65.98%\n",
            "\t Val. Loss: 0.738 |  Val. Acc: 53.25%\n",
            "\tTrain Loss: 0.474 | Train Acc: 67.57%\n",
            "\t Val. Loss: 1.018 |  Val. Acc: 53.46%\n",
            "\tTrain Loss: 0.476 | Train Acc: 66.64%\n",
            "\t Val. Loss: 0.887 |  Val. Acc: 53.06%\n",
            "\tTrain Loss: 0.470 | Train Acc: 67.11%\n",
            "\t Val. Loss: 0.977 |  Val. Acc: 55.12%\n",
            "\tTrain Loss: 0.467 | Train Acc: 69.31%\n",
            "\t Val. Loss: 0.996 |  Val. Acc: 53.91%\n",
            "\tTrain Loss: 0.458 | Train Acc: 67.89%\n",
            "\t Val. Loss: 1.142 |  Val. Acc: 54.41%\n",
            "\tTrain Loss: 0.466 | Train Acc: 67.80%\n",
            "\t Val. Loss: 1.126 |  Val. Acc: 54.07%\n",
            "\tTrain Loss: 0.461 | Train Acc: 67.92%\n",
            "\t Val. Loss: 1.150 |  Val. Acc: 53.91%\n",
            "\tTrain Loss: 0.448 | Train Acc: 68.67%\n",
            "\t Val. Loss: 0.941 |  Val. Acc: 54.74%\n",
            "\tTrain Loss: 0.430 | Train Acc: 71.74%\n",
            "\t Val. Loss: 0.926 |  Val. Acc: 56.01%\n",
            "\tTrain Loss: 0.394 | Train Acc: 74.92%\n",
            "\t Val. Loss: 0.942 |  Val. Acc: 65.57%\n",
            "\tTrain Loss: 0.312 | Train Acc: 84.32%\n",
            "\t Val. Loss: 1.058 |  Val. Acc: 72.54%\n",
            "\tTrain Loss: 0.157 | Train Acc: 93.48%\n",
            "\t Val. Loss: 0.835 |  Val. Acc: 75.47%\n"
          ]
        }
      ]
    }
  ]
}
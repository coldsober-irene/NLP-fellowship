{
  "nbformat": 4,
  "nbformat_minor": 0,
  "metadata": {
    "colab": {
      "provenance": [],
      "authorship_tag": "ABX9TyNEzE3K4ZykiS6baOJpGZNX",
      "include_colab_link": true
    },
    "kernelspec": {
      "name": "python3",
      "display_name": "Python 3"
    },
    "language_info": {
      "name": "python"
    }
  },
  "cells": [
    {
      "cell_type": "markdown",
      "metadata": {
        "id": "view-in-github",
        "colab_type": "text"
      },
      "source": [
        "<a href=\"https://colab.research.google.com/github/coldsober-irene/NLP-fellowship/blob/main/rehasalW302.ipynb\" target=\"_parent\"><img src=\"https://colab.research.google.com/assets/colab-badge.svg\" alt=\"Open In Colab\"/></a>"
      ]
    },
    {
      "cell_type": "code",
      "execution_count": 1,
      "metadata": {
        "id": "7HjHcM2A1NLZ"
      },
      "outputs": [],
      "source": [
        "import numpy as np"
      ]
    },
    {
      "cell_type": "code",
      "source": [
        "sentences = ['this is a list of sentences example', 'second sentence in list of sentence', 'a word for complexity']\n",
        "unique_words = set()\n",
        "word_index = {}\n",
        "index_word = {}\n",
        "\n",
        "# word tokenization\n",
        "for sent in sentences:\n",
        "  for word in sent.split():\n",
        "    unique_words.add(word) # similar to the append in list"
      ],
      "metadata": {
        "id": "PGtm4aYy1U0F"
      },
      "execution_count": 21,
      "outputs": []
    },
    {
      "cell_type": "code",
      "source": [
        "unique_words"
      ],
      "metadata": {
        "id": "itQDwD1E2GpD"
      },
      "execution_count": null,
      "outputs": []
    },
    {
      "cell_type": "code",
      "source": [
        "# word index\n",
        "for index,word in enumerate(unique_words):\n",
        "  word_index[word] = index\n",
        "  index_word[index]= word"
      ],
      "metadata": {
        "id": "0Uav7FaC3Pkb"
      },
      "execution_count": 22,
      "outputs": []
    },
    {
      "cell_type": "code",
      "source": [
        "word_index"
      ],
      "metadata": {
        "colab": {
          "base_uri": "https://localhost:8080/"
        },
        "id": "V6vltfNE6oeX",
        "outputId": "905a1de5-5f5a-44e2-a57e-df7507bbcd44"
      },
      "execution_count": 24,
      "outputs": [
        {
          "output_type": "execute_result",
          "data": {
            "text/plain": [
              "{'complexity': 0,\n",
              " 'is': 1,\n",
              " 'list': 2,\n",
              " 'a': 3,\n",
              " 'second': 4,\n",
              " 'example': 5,\n",
              " 'sentence': 6,\n",
              " 'of': 7,\n",
              " 'this': 8,\n",
              " 'sentences': 9,\n",
              " 'for': 10,\n",
              " 'word': 11,\n",
              " 'in': 12}"
            ]
          },
          "metadata": {},
          "execution_count": 24
        }
      ]
    },
    {
      "cell_type": "code",
      "source": [
        "index_word"
      ],
      "metadata": {
        "colab": {
          "base_uri": "https://localhost:8080/"
        },
        "id": "jOz-cYrl6t4R",
        "outputId": "6126a1b4-9b5c-4794-8c2e-b0c23a20338c"
      },
      "execution_count": 25,
      "outputs": [
        {
          "output_type": "execute_result",
          "data": {
            "text/plain": [
              "{0: 'complexity',\n",
              " 1: 'is',\n",
              " 2: 'list',\n",
              " 3: 'a',\n",
              " 4: 'second',\n",
              " 5: 'example',\n",
              " 6: 'sentence',\n",
              " 7: 'of',\n",
              " 8: 'this',\n",
              " 9: 'sentences',\n",
              " 10: 'for',\n",
              " 11: 'word',\n",
              " 12: 'in'}"
            ]
          },
          "metadata": {},
          "execution_count": 25
        }
      ]
    },
    {
      "cell_type": "code",
      "source": [
        "arr1 = np.zeros(len(unique_words))"
      ],
      "metadata": {
        "id": "ub8ZlaGu6zxt"
      },
      "execution_count": 26,
      "outputs": []
    },
    {
      "cell_type": "code",
      "source": [
        "# sentence and the unique words array\n",
        "arr2 = np.zeros((len(sentences), len(unique_words)))"
      ],
      "metadata": {
        "id": "aKE-HHZc7w1d"
      },
      "execution_count": 29,
      "outputs": []
    },
    {
      "cell_type": "code",
      "source": [
        "for sent in range(len(sentences)):\n",
        "  for word in unique_words:\n",
        "    if word in sentences[sent]:\n",
        "      arr2[sent][word_index[word]] += 1\n"
      ],
      "metadata": {
        "id": "O9KMhyug854s"
      },
      "execution_count": 35,
      "outputs": []
    },
    {
      "cell_type": "code",
      "source": [
        "arr2"
      ],
      "metadata": {
        "colab": {
          "base_uri": "https://localhost:8080/"
        },
        "id": "1EqgXKY8-SE2",
        "outputId": "a04fa425-eca4-4211-cca5-3f069de6e387"
      },
      "execution_count": 36,
      "outputs": [
        {
          "output_type": "execute_result",
          "data": {
            "text/plain": [
              "array([[0., 1., 1., 1., 0., 1., 1., 1., 1., 1., 0., 0., 0.],\n",
              "       [0., 1., 1., 0., 1., 0., 1., 1., 0., 0., 0., 0., 1.],\n",
              "       [1., 0., 0., 1., 0., 0., 0., 0., 0., 0., 1., 1., 0.]])"
            ]
          },
          "metadata": {},
          "execution_count": 36
        }
      ]
    }
  ]
}
{
  "nbformat": 4,
  "nbformat_minor": 0,
  "metadata": {
    "colab": {
      "provenance": [],
      "collapsed_sections": [],
      "include_colab_link": true
    },
    "kernelspec": {
      "name": "python3",
      "display_name": "Python 3"
    },
    "language_info": {
      "name": "python"
    }
  },
  "cells": [
    {
      "cell_type": "markdown",
      "metadata": {
        "id": "view-in-github",
        "colab_type": "text"
      },
      "source": [
        "<a href=\"https://colab.research.google.com/github/coldsober-irene/NLP-fellowship/blob/main/ass1_question2.ipynb\" target=\"_parent\"><img src=\"https://colab.research.google.com/assets/colab-badge.svg\" alt=\"Open In Colab\"/></a>"
      ]
    },
    {
      "cell_type": "markdown",
      "source": [
        "# Working with JSON Day 1\n",
        "Json stands for JavaScript Object Notation. Json is formed in a key, value format. It can take Strings, Numbers, Lists and even other Json Objects. \n",
        "\n",
        "You will find json object as responses from APIs.\n",
        "\n",
        "## Objective of this sessions\n",
        "\n",
        "\n",
        "1.   Learn how to read a json file\n",
        "2.   Learn how to request data from an API\n",
        "3.   Learn how to get values from a json object\n",
        "4.   Learn how to add values\n",
        "5.   Learn how to update values\n",
        "6.   Learn how to delete values\n",
        "\n"
      ],
      "metadata": {
        "id": "u2dtvbb_DpCQ"
      }
    },
    {
      "cell_type": "code",
      "execution_count": null,
      "metadata": {
        "colab": {
          "base_uri": "https://localhost:8080/"
        },
        "id": "cJkjPu3EDn5j",
        "outputId": "086abf18-cee5-47fa-a868-6fe73fbd0561"
      },
      "outputs": [
        {
          "output_type": "stream",
          "name": "stdout",
          "text": [
            "{'country': {'name': 'Rwanda', 'continent': 'Africa'}}\n"
          ]
        }
      ],
      "source": [
        "import json\n",
        "# create a json object\n",
        "data = {\n",
        "    \"country\": {\n",
        "        \"name\": \"Rwanda\",\n",
        "        \"continent\": \"Africa\"\n",
        "    }\n",
        "}\n",
        "\n",
        "print(data)"
      ]
    },
    {
      "cell_type": "markdown",
      "source": [
        "## dump vs dumps | load vs loads\n",
        "### Serializating JSON\n",
        "\n",
        "When you was to write the json object to a file, you use:\n",
        "\n",
        " `json.dump(object,filename)`\n",
        " \n",
        " When you want to change it to a json string:\n",
        "\n",
        " `json_string = json.dumps(object)`\n",
        "\n",
        " ### Deserializing JSON\n",
        " When you want to read from a json file, use:\n",
        "\n",
        " `json.load(filename)`\n",
        "\n",
        " When you want to change from json string:\n",
        "\n",
        "  `json_object = json.loads(json_string)`"
      ],
      "metadata": {
        "id": "CsQdYuFjZJJv"
      }
    },
    {
      "cell_type": "code",
      "source": [
        "# Accessing the values\n",
        "print(data['country'])\n",
        "print('------------------------')\n",
        "print(data['country']['continent'])"
      ],
      "metadata": {
        "colab": {
          "base_uri": "https://localhost:8080/"
        },
        "id": "UHzkgChomwxc",
        "outputId": "d2482bec-6e23-4f3d-be54-9a97095b16ff"
      },
      "execution_count": null,
      "outputs": [
        {
          "output_type": "stream",
          "name": "stdout",
          "text": [
            "{'name': 'Rwanda', 'continent': 'Africa'}\n",
            "------------------------\n",
            "Africa\n"
          ]
        }
      ]
    },
    {
      "cell_type": "code",
      "source": [
        "# updating values\n",
        "#data['country']['name'] = 'Rwanda'\n",
        "\n",
        "# adding new values\n",
        "#data['country']['population'] = 14000000\n",
        "\n",
        "\n",
        "# removing values\n",
        "del data['country']['population']\n",
        "\n",
        "print(data)"
      ],
      "metadata": {
        "colab": {
          "base_uri": "https://localhost:8080/"
        },
        "id": "uw3VPX9Qp0mm",
        "outputId": "4d8aae98-6235-4c21-b3cf-cbc37c58f22b"
      },
      "execution_count": null,
      "outputs": [
        {
          "output_type": "stream",
          "name": "stdout",
          "text": [
            "{'country': {'name': 'Rwanda', 'continent': 'Africa'}}\n"
          ]
        }
      ]
    },
    {
      "cell_type": "markdown",
      "source": [
        "## Working with APIs\n"
      ],
      "metadata": {
        "id": "3CqcHzyeuX91"
      }
    },
    {
      "cell_type": "code",
      "source": [
        "import requests\n",
        "import json\n",
        "response = requests.get(\"https://jsonplaceholder.typicode.com/albums\")\n",
        "albums = json.loads(response.text)\n",
        "# print(response.text)\n",
        "print(len(albums))\n",
        "print(response.json())"
      ],
      "metadata": {
        "id": "0OgpzHMluVkR"
      },
      "execution_count": null,
      "outputs": []
    },
    {
      "cell_type": "code",
      "source": [
        "albums[0]"
      ],
      "metadata": {
        "colab": {
          "base_uri": "https://localhost:8080/"
        },
        "id": "CfR8VZPlwIp0",
        "outputId": "45da3c31-9e79-4cc6-d26c-66b24282c13a"
      },
      "execution_count": null,
      "outputs": [
        {
          "output_type": "execute_result",
          "data": {
            "text/plain": [
              "{'userId': 1, 'id': 1, 'title': 'quidem molestiae enim'}"
            ]
          },
          "metadata": {},
          "execution_count": 10
        }
      ]
    },
    {
      "cell_type": "code",
      "source": [
        "import requests\n",
        "import json\n",
        "# TODO: Get products from https://dummyjson.com\n",
        "\n",
        "# Enter code here #\n",
        "api = \"https://dummyjson.com/products\"\n",
        "data = requests.get(api).json()\n",
        "\n",
        "all_products = data['products']\n",
        "#  get unique category and its related brands\n",
        "unique_categories = []\n",
        "for product in all_products:\n",
        "  unique_categories.append(product['category'])\n",
        "unique_categories = list(set(unique_categories))\n",
        "\n",
        "# ready categories to accept brands\n",
        "cats = {}\n",
        "# category and its corresponding brands\n",
        "for cat in unique_categories:\n",
        "  cats.setdefault(cat, [])\n",
        "\n",
        "# get brands in a give category\n",
        "for cat in unique_categories:\n",
        "  for prod in all_products:\n",
        "    if prod['category'] == cat:\n",
        "      cats[cat].append({\"brand\":prod[\"brand\"],\"title\":prod['title'], \"price\":prod['price']})\n",
        "cats\n",
        "\n",
        "# update data\n",
        "updateData = {}\n",
        "\n",
        "for cat in unique_categories:\n",
        "  cat_info = cats[cat]\n",
        "  brands = []\n",
        "  prices = 0\n",
        "  count = 0\n",
        "  items = []\n",
        "  for info in cat_info:\n",
        "    brands.append(info['brand'])\n",
        "    items.append(info['title'])\n",
        "    prices += info['price']\n",
        "    count += 1\n",
        "  \n",
        "  # update the data\n",
        "  av_price = round((prices / count),1)\n",
        "  updateData.setdefault(cat, {\"brands\":brands, \"items\":items,\"average price\": prices})\n",
        "\n",
        "# show update data\n",
        "for key in unique_categories:\n",
        "  print(updateData[key])\n",
        "\n",
        "# create new json file\n",
        "with open(\"newJson.json\", \"w\") as js:\n",
        "  json.dump(updateData, js)\n",
        "\n",
        "  \n",
        "    \n"
      ],
      "metadata": {
        "colab": {
          "base_uri": "https://localhost:8080/"
        },
        "id": "1n679t5WEe2d",
        "outputId": "72b563fa-f59f-456c-f636-2ebf4d690cb6"
      },
      "execution_count": null,
      "outputs": [
        {
          "output_type": "stream",
          "name": "stdout",
          "text": [
            "{'brands': ['APPle', 'Samsung', 'Microsoft Surface', 'Infinix', 'HP Pavilion'], 'items': ['MacBook Pro', 'Samsung Galaxy Book', 'Microsoft Surface Laptop 4', 'Infinix INBOOK', 'HP Pavilion 15-DK1056WM'], 'average price': 6945}\n",
            "{'brands': ['Impression of Acqua Di Gio', 'Royal_Mirage', 'Fog Scent Xpressio', 'Al Munakh', 'Lord - Al-Rehab'], 'items': ['perfume Oil', 'Brown Perfume', 'Fog Scent Xpressio Perfume', 'Non-Alcoholic Concentrated Perfume Oil', 'Eau De Perfume Spray'], 'average price': 216}\n",
            "{'brands': [\"L'Oreal Paris\", 'Hemani Tea', 'Dermive', 'ROREC White Rice', 'Fair & Clear'], 'items': ['Hyaluronic Acid Serum', 'Tree Oil 30ml', 'Oil Free Moisturizer 100ml', 'Skin Beauty Serum.', 'Freckle Treatment Cream- 15gm'], 'average price': 187}\n",
            "{'brands': ['Boho Decor', 'Flying Wooden', 'LED Lights', 'luxury palace', 'Golden'], 'items': ['Plant Hanger For Home', 'Flying Wooden Bird', '3D Embellishment Art Lamp', 'Handcraft Chinese style', 'Key Holder'], 'average price': 202}\n",
            "{'brands': ['Apple', 'Apple', 'Samsung', 'OPPO', 'Huawei'], 'items': ['iPhone 9', 'iPhone X', 'Samsung Universe 9', 'OPPOF19', 'Huawei P30'], 'average price': 3476}\n",
            "{'brands': ['Saaf & Khaas', 'Bake Parlor Big', 'Baking Food Items', 'fauji', 'Dry Rose'], 'items': ['- Daal Masoor 500 grams', 'Elbow Macaroni - 400 gm', 'Orange Essence Food Flavou', 'cereals muesli fruit nuts', 'Gulab Powder 50 Gram'], 'average price': 164}\n"
          ]
        }
      ]
    },
    {
      "cell_type": "code",
      "source": [
        "# TODO Get the last 20 products\n",
        "# Enter code here #"
      ],
      "metadata": {
        "id": "J1n2KHZ5YeZp"
      },
      "execution_count": null,
      "outputs": []
    },
    {
      "cell_type": "code",
      "source": [
        "# Create a new json consisting of aggregated data of the products: {category, brand : list of products, average price}\n",
        "# Enter code here #\n"
      ],
      "metadata": {
        "id": "VDwkT2MV3wxQ"
      },
      "execution_count": null,
      "outputs": []
    },
    {
      "cell_type": "code",
      "source": [
        "# Write the new json to a file\n",
        "# Enter code here #"
      ],
      "metadata": {
        "id": "uYq4WWJA443O"
      },
      "execution_count": null,
      "outputs": []
    },
    {
      "cell_type": "code",
      "source": [
        "# Complex json: http://ergast.com/api/f1/2018/drivers/hamilton/results.json\n",
        "# Organize the code into csv format in a way one can get information. Be creative with the presentation :) 3 drivers\n",
        "# Enter code here\n",
        "\n",
        "import json \n",
        "import requests\n",
        "import os\n",
        "\n",
        "def jsonExtracter(filePath = \"\", link = \"\", outputFormat = \"\"):\n",
        "  decision = None\n",
        "  if link and not filePath:\n",
        "    pass\n",
        "  elif filePath and not link:\n",
        "    pass\n",
        "  elif link and filePath:\n",
        "    print(\"please enter 1 for link preference or 2 for filePath\")\n",
        "    decision = int(input(\"decision: \"))\n",
        "  else:\n",
        "    print(\"please make sure you have either selected the json file or you passed an API instead\")\n",
        "  \n",
        "  def baseOnDecision():\n",
        "    if decision == 1:\n",
        "      onlineData = requests.get(link)"
      ],
      "metadata": {
        "id": "tDjS4_AjONs0"
      },
      "execution_count": 7,
      "outputs": []
    },
    {
      "cell_type": "code",
      "source": [],
      "metadata": {
        "id": "m8YqQ_WRqzoA"
      },
      "execution_count": null,
      "outputs": []
    }
  ]
}
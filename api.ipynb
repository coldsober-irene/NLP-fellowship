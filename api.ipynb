{
  "nbformat": 4,
  "nbformat_minor": 0,
  "metadata": {
    "colab": {
      "provenance": [],
      "include_colab_link": true
    },
    "kernelspec": {
      "name": "python3",
      "display_name": "Python 3"
    },
    "language_info": {
      "name": "python"
    }
  },
  "cells": [
    {
      "cell_type": "markdown",
      "metadata": {
        "id": "view-in-github",
        "colab_type": "text"
      },
      "source": [
        "<a href=\"https://colab.research.google.com/github/coldsober-irene/NLP-fellowship/blob/main/api.ipynb\" target=\"_parent\"><img src=\"https://colab.research.google.com/assets/colab-badge.svg\" alt=\"Open In Colab\"/></a>"
      ]
    },
    {
      "cell_type": "code",
      "execution_count": null,
      "metadata": {
        "id": "GF6yp2bUxRQt"
      },
      "outputs": [],
      "source": [
        "!pip install pyngrok uvicorn nest-asyncio fastapi easynmt"
      ]
    },
    {
      "cell_type": "code",
      "source": [
        "!ngrok authtoken 2HJPvK5e4VxcduBjO5XSc0LqqCR_5zV3b5gBcKuNMUnxdpfuP"
      ],
      "metadata": {
        "colab": {
          "base_uri": "https://localhost:8080/"
        },
        "id": "l9L0aPisyOc-",
        "outputId": "94474ab4-1077-4e54-9d90-ce12ece56bef"
      },
      "execution_count": null,
      "outputs": [
        {
          "output_type": "stream",
          "name": "stdout",
          "text": [
            "Authtoken saved to configuration file: /root/.ngrok2/ngrok.yml\n"
          ]
        }
      ]
    },
    {
      "cell_type": "code",
      "source": [
        "from pyngrok import ngrok\n",
        "from fastapi import FastAPI, Response\n",
        "import uvicorn\n",
        "import nest_asyncio \n",
        "from starlette.responses import HTMLResponse\n",
        "import json"
      ],
      "metadata": {
        "id": "jibj-fWcxdE9"
      },
      "execution_count": null,
      "outputs": []
    },
    {
      "cell_type": "code",
      "source": [
        "app = FastAPI(title = 'MY API')\n",
        "@app.get('/')\n",
        "def start():\n",
        "  return \"this is the beginning of the page\""
      ],
      "metadata": {
        "id": "IKSyrfqJxuZD"
      },
      "execution_count": null,
      "outputs": []
    },
    {
      "cell_type": "code",
      "source": [
        "langs = '''{\"Abkhaz\": \"ab\",\n",
        " \"Afar\": \"aa\",\n",
        " \"Afrikaans\": \"af\",\n",
        " \"Akan\": \"ak\",\n",
        " \"Albanian\": \"sq\",\n",
        " \"Amharic\": \"am\",\n",
        " \"Arabic\": \"ar\",\n",
        " \"Aragonese\": \"an\",\n",
        " \"Armenian\": \"hy\",\n",
        " \"Assamese\": \"as\",\n",
        " \"Avaric\": \"av\",\n",
        " \"Avestan\": \"ae\",\n",
        " \"Aymara\": \"ay\",\n",
        " \"Azerbaijani\": \"az\",\n",
        " \"Bambara\": \"bm\",\n",
        " \"Bashkir\": \"ba\",\n",
        " \"Basque\": \"eu\",\n",
        " \"Belarusian\": \"be\",\n",
        " \"Bengali\": \"bn\",\n",
        " \"Bihari\": \"bh\",\n",
        " \"Bislama\": \"bi\",\n",
        " \"Bosnian\": \"bs\",\n",
        " \"Breton\": \"br\",\n",
        " \"Bulgarian\": \"bg\",\n",
        " \"Burmese\": \"my\",\n",
        " \"Catalan; Valencian\": \"ca\",\n",
        " \"Chamorro\": \"ch\",\n",
        " \"Chechen\": \"ce\",\n",
        " \"Chichewa; Chewa; Nyanja\": \"ny\",\n",
        " \"Chinese\": \"zh\",\n",
        " \"Chuvash\": \"cv\",\n",
        " \"Cornish\": \"kw\",\n",
        " \"Corsican\": \"co\",\n",
        " \"Cree\": \"cr\",\n",
        " \"Croatian\": \"hr\",\n",
        " \"Czech\": \"cs\",\n",
        " \"Danish\": \"da\",\n",
        " \"Divehi; Dhivehi; Maldivian;\": \"dv\",\n",
        " \"Dutch\": \"nl\",\n",
        " \"English\": \"en\",\n",
        " \"Esperanto\": \"eo\",\n",
        " \"Estonian\": \"et\",\n",
        " \"Ewe\": \"ee\",\n",
        " \"Faroese\": \"fo\",\n",
        " \"Fijian\": \"fj\",\n",
        " \"Finnish\": \"fi\",\n",
        " \"French\": \"fr\",\n",
        " \"Fula; Fulah; Pulaar; Pular\": \"ff\",\n",
        " \"Galician\": \"gl\",\n",
        " \"Georgian\": \"ka\",\n",
        " \"German\": \"de\",\n",
        " \"Greek, Modern\": \"el\",\n",
        " \"Guaraní\": \"gn\",\n",
        " \"Gujarati\": \"gu\",\n",
        " \"Haitian; Haitian Creole\": \"ht\",\n",
        " \"Hausa\": \"ha\",\n",
        " \"Hebrew (modern)\": \"he\",\n",
        " \"Herero\": \"hz\",\n",
        " \"Hindi\": \"hi\",\n",
        " \"Hiri Motu\": \"ho\",\n",
        " \"Hungarian\": \"hu\",\n",
        " \"Interlingua\": \"ia\",\n",
        " \"Indonesian\": \"id\",\n",
        " \"Interlingue\": \"ie\",\n",
        " \"Irish\": \"ga\",\n",
        " \"Igbo\": \"ig\",\n",
        " \"Inupiaq\": \"ik\",\n",
        " \"Ido\": \"io\",\n",
        " \"Icelandic\": \"is\",\n",
        " \"Italian\": \"it\",\n",
        " \"Inuktitut\": \"iu\",\n",
        " \"Japanese\": \"ja\",\n",
        " \"Javanese\": \"jv\",\n",
        " \"Kalaallisut, Greenlandic\": \"kl\",\n",
        " \"Kannada\": \"kn\",\n",
        " \"Kanuri\": \"kr\",\n",
        " \"Kashmiri\": \"ks\",\n",
        " \"Kazakh\": \"kk\",\n",
        " \"Khmer\": \"km\",\n",
        " \"Kikuyu, Gikuyu\": \"ki\",\n",
        " \"Kinyarwanda\": \"rw\",\n",
        " \"Kirghiz, Kyrgyz\": \"ky\",\n",
        " \"Komi\": \"kv\",\n",
        " \"Kongo\": \"kg\",\n",
        " \"Korean\": \"ko\",\n",
        " \"Kurdish\": \"ku\",\n",
        " \"Kwanyama, Kuanyama\": \"kj\",\n",
        " \"Latin\": \"la\",\n",
        " \"Luxembourgish, Letzeburgesch\": \"lb\",\n",
        " \"Luganda\": \"lg\",\n",
        " \"Limburgish, Limburgan, Limburger\": \"li\",\n",
        " \"Lingala\": \"ln\",\n",
        " \"Lao\": \"lo\",\n",
        " \"Lithuanian\": \"lt\",\n",
        " \"Luba-Katanga\": \"lu\",\n",
        " \"Latvian\": \"lv\",\n",
        " \"Manx\": \"gv\",\n",
        " \"Macedonian\": \"mk\",\n",
        " \"Malagasy\": \"mg\",\n",
        " \"Malay\": \"ms\",\n",
        " \"Malayalam\": \"ml\",\n",
        " \"Maltese\": \"mt\",\n",
        " \"Māori\": \"mi\",\n",
        " \"Marathi (Marāṭhī)\": \"mr\",\n",
        " \"Marshallese\": \"mh\",\n",
        " \"Mongolian\": \"mn\",\n",
        " \"Nauru\": \"na\",\n",
        " \"Navajo, Navaho\": \"nv\",\n",
        " \"Norwegian Bokmål\": \"nb\",\n",
        " \"North Ndebele\": \"nd\",\n",
        " \"Nepali\": \"ne\",\n",
        " \"Ndonga\": \"ng\",\n",
        " \"Norwegian Nynorsk\": \"nn\",\n",
        " \"Norwegian\": \"no\",\n",
        " \"Nuosu\": \"ii\",\n",
        " \"South Ndebele\": \"nr\",\n",
        " \"Occitan\": \"oc\",\n",
        " \"Ojibwe, Ojibwa\": \"oj\",\n",
        " \"Old Church Slavonic, Church Slavic, Church Slavonic, Old Bulgarian, Old Slavonic\": \"cu\",\n",
        " \"Oromo\": \"om\",\n",
        " \"Oriya\": \"or\",\n",
        " \"Ossetian, Ossetic\": \"os\",\n",
        " \"Panjabi, Punjabi\": \"pa\",\n",
        " \"Pāli\": \"pi\",\n",
        " \"Persian\": \"fa\",\n",
        " \"Polish\": \"pl\",\n",
        " \"Pashto, Pushto\": \"ps\",\n",
        " \"Portuguese\": \"pt\",\n",
        " \"Quechua\": \"qu\",\n",
        " \"Romansh\": \"rm\",\n",
        " \"Kirundi\": \"rn\",\n",
        " \"Romanian, Moldavian, Moldovan\": \"ro\",\n",
        " \"Russian\": \"ru\",\n",
        " \"Sanskrit (Saṁskṛta)\": \"sa\",\n",
        " \"Sardinian\": \"sc\",\n",
        " \"Sindhi\": \"sd\",\n",
        " \"Northern Sami\": \"se\",\n",
        " \"Samoan\": \"sm\",\n",
        " \"Sango\": \"sg\",\n",
        " \"Serbian\": \"sr\",\n",
        " \"Scottish Gaelic; Gaelic\": \"gd\",\n",
        " \"Shona\": \"sn\",\n",
        " \"Sinhala, Sinhalese\": \"si\",\n",
        " \"Slovak\": \"sk\",\n",
        " \"Slovene\": \"sl\",\n",
        " \"Somali\": \"so\",\n",
        " \"Southern Sotho\": \"st\",\n",
        " \"Spanish; Castilian\": \"es\",\n",
        " \"Sundanese\": \"su\",\n",
        " \"Swahili\": \"sw\",\n",
        " \"Swati\": \"ss\",\n",
        " \"Swedish\": \"sv\",\n",
        " \"Tamil\": \"ta\",\n",
        " \"Telugu\": \"te\",\n",
        " \"Tajik\": \"tg\",\n",
        " \"Thai\": \"th\",\n",
        " \"Tigrinya\": \"ti\",\n",
        " \"Tibetan Standard, Tibetan, Central\": \"bo\",\n",
        " \"Turkmen\": \"tk\",\n",
        " \"Tagalog\": \"tl\",\n",
        " \"Tswana\": \"tn\",\n",
        " \"Tonga (Tonga Islands)\": \"to\",\n",
        " \"Turkish\": \"tr\",\n",
        " \"Tsonga\": \"ts\",\n",
        " \"Tatar\": \"tt\",\n",
        " \"Twi\": \"tw\",\n",
        " \"Tahitian\": \"ty\",\n",
        " \"Uighur, Uyghur\": \"ug\",\n",
        " \"Ukrainian\": \"uk\",\n",
        " \"Urdu\": \"ur\",\n",
        " \"Uzbek\": \"uz\",\n",
        " \"Venda\": \"ve\",\n",
        " \"Vietnamese\": \"vi\",\n",
        " \"Volapük\": \"vo\",\n",
        " \"Walloon\": \"wa\",\n",
        " \"Welsh\": \"cy\",\n",
        " \"Wolof\": \"wo\",\n",
        " \"Western Frisian\": \"fy\",\n",
        " \"Xhosa\": \"xh\",\n",
        " \"Yiddish\": \"yi\",\n",
        " \"Yoruba\": \"yo\",\n",
        " \"Zhuang, Chuang\": \"za\"}'''\n",
        "js = json.dumps(langs)"
      ],
      "metadata": {
        "id": "P-rsKykn1sps"
      },
      "execution_count": null,
      "outputs": []
    },
    {
      "cell_type": "code",
      "source": [
        "# translate\n",
        "model = EasyNMT('opus-mt')\n",
        "@app.get('/translate', response_class=HTMLResponse)\n",
        "def translator(lang:str=''):\n",
        "  prev_lang = 'en'\n",
        "  if lang:\n",
        "    for index in range(len(df)):\n",
        "      try:\n",
        "        df['Job Title'][index] = model.translate(df[index]['Job Title'], target_lang = lang, source_lang = prev_lang)\n",
        "        df['Job Description'][index] = model.translate(df[index]['Job Description'], target_lang = lang, source_lang = prev_lang)\n",
        "        if index != len(df) - 1:\n",
        "          all_translated = f\"\"\"<html>\n",
        "                            <h2><u>{index} / {len(df)} Jobs translated<br> Try to choose other language maybe.</u></h2>\n",
        "                            <p>\n",
        "                            {js}\n",
        "                            </p>\n",
        "                  </html>\"\"\"\n",
        "          return all_translated\n",
        "        else:\n",
        "          return Response(df.to_json(orient = 'index'), media_type = 'application/json')\n",
        "      except:\n",
        "        error_message = f\"\"\"<html>\n",
        "                            <h2><u>Oops! Something went wrong. <br> Try to choose other language maybe.</u></h2>\n",
        "                            <p>\n",
        "                            {js}\n",
        "                            </p>\n",
        "                  </html>\"\"\"\n",
        "        return error_message\n",
        "  else:\n",
        "    content = f\"\"\"<html>\n",
        "                    <h2><u>List of all countries' languages code</u></h2>\n",
        "                    <p>\n",
        "                    {js}\n",
        "                    </p>\n",
        "                  </html>\n",
        "              \"\"\" \n",
        "    return HTMLResponse(content)"
      ],
      "metadata": {
        "id": "Nas6juU3y2XC"
      },
      "execution_count": null,
      "outputs": []
    },
    {
      "cell_type": "code",
      "source": [
        "tunnel = ngrok.connect(8000)\n",
        "print(\"PUBLIC URL: \", tunnel.public_url)\n",
        "nest_asyncio.apply()\n",
        "uvicorn.run(app, port = 8000)"
      ],
      "metadata": {
        "id": "G89X1YQUyAVm"
      },
      "execution_count": null,
      "outputs": []
    },
    {
      "cell_type": "code",
      "source": [
        "!pkill ngrok"
      ],
      "metadata": {
        "id": "KKutHgMW3XWn"
      },
      "execution_count": null,
      "outputs": []
    }
  ]
}
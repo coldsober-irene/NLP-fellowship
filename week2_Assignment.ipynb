{
  "nbformat": 4,
  "nbformat_minor": 0,
  "metadata": {
    "colab": {
      "provenance": [],
      "collapsed_sections": [],
      "authorship_tag": "ABX9TyPvrs4LS0TNamp8ZOHkM7Av",
      "include_colab_link": true
    },
    "kernelspec": {
      "name": "python3",
      "display_name": "Python 3"
    },
    "language_info": {
      "name": "python"
    }
  },
  "cells": [
    {
      "cell_type": "markdown",
      "metadata": {
        "id": "view-in-github",
        "colab_type": "text"
      },
      "source": [
        "<a href=\"https://colab.research.google.com/github/coldsober-irene/NLP-fellowship/blob/main/week2_Assignment.ipynb\" target=\"_parent\"><img src=\"https://colab.research.google.com/assets/colab-badge.svg\" alt=\"Open In Colab\"/></a>"
      ]
    },
    {
      "cell_type": "code",
      "source": [
        "!pip install textract"
      ],
      "metadata": {
        "id": "f3IUmKj4VN5E"
      },
      "execution_count": null,
      "outputs": []
    },
    {
      "cell_type": "code",
      "source": [
        "!pip install emoji"
      ],
      "metadata": {
        "id": "0UB9xvHek5fA"
      },
      "execution_count": null,
      "outputs": []
    },
    {
      "cell_type": "code",
      "source": [
        "import textract\n",
        "import re\n",
        "import emoji"
      ],
      "metadata": {
        "id": "v7tSlmoLVQ67"
      },
      "execution_count": null,
      "outputs": []
    },
    {
      "cell_type": "markdown",
      "source": [
        "**Assignment 1:** Create a function that will run all the steps in one iteration. Run the code on the csv file used in the last assignment"
      ],
      "metadata": {
        "id": "_JMx-OlzSuql"
      }
    },
    {
      "cell_type": "code",
      "execution_count": null,
      "metadata": {
        "id": "i0fKGAcoSgU4"
      },
      "outputs": [],
      "source": [
        "def overallProcesses(file):\n",
        "  text = textract.process(file).decode(\"utf-8\")\n",
        "  # REMOVE THE EMPTY LINES\n",
        "  valid_lines = []\n",
        "  for line in text.splitlines():\n",
        "    if line.strip():\n",
        "      valid_lines.append(line)\n",
        "\n",
        "  # NORMALISE THE WHOLE LINES INTO LOWERCASE\n",
        "  lowercase_lines = [line.lower() for line in valid_lines]\n",
        "\n",
        "  # REMOVE DUPLICATES\n",
        "  no_duplicates = []\n",
        "  checked = set()\n",
        "  temp = [(checked.add(line),no_duplicates.append(line))  for line in lowercase_lines if line not in checked]\n",
        "\n",
        "  # REMOVE UNWANTED WHITESPACE\n",
        "  no_whitespace = [re.sub(\"{2,}\", \" \", line) for line in no_duplicates]\n",
        "\n",
        "  # REMOVE URLs AND EMAILS\n",
        "  no_emails_and_urls = [re.sub(\"[\\w\\.-]+@[\\w\\.-]+|[\\w]+\\.[\\w]+\", \"\", line) for line in no_whitespace]\n",
        "\n",
        "  # REMOVING PANCTUATIONS\n",
        "  no_punc = [re.sub(\"[^\\w\\s]\", \"\", line) for line in no_emails_and_urls]\n",
        "\n",
        "  # REMOVE EMOJIES\n",
        "  def remove_emojis(text):\n",
        "    pattern = re.compile(\":\\w+:\") # pattern for the text that occupies the space that have been occupied by the emoji\n",
        "    without = emoji.demojize(text)\n",
        "    no_emoji = pattern.sub(\"\",without)\n",
        "    return no_emoji.strip()\n",
        "  no_emojis = [remove_emojis(line) for line in no_punc]\n",
        "\n",
        "  # REMOVE DIGITS\n",
        "  no_digits = [re.sub(\"\\d+\", \"\", line) for line in no_emojis]"
      ]
    },
    {
      "cell_type": "markdown",
      "source": [
        "**Assignment 2**:"
      ],
      "metadata": {
        "id": "KGlSRCGJS0lk"
      }
    },
    {
      "cell_type": "code",
      "source": [],
      "metadata": {
        "id": "ZJOkZk-DS8Qu"
      },
      "execution_count": null,
      "outputs": []
    },
    {
      "cell_type": "markdown",
      "source": [
        "**Assignment 3**: "
      ],
      "metadata": {
        "id": "EVeLHYLDTE35"
      }
    },
    {
      "cell_type": "code",
      "source": [],
      "metadata": {
        "id": "r77oSuAhTIWq"
      },
      "execution_count": null,
      "outputs": []
    }
  ]
}